{
 "cells": [
  {
   "cell_type": "code",
   "execution_count": 4,
   "id": "military-humanity",
   "metadata": {},
   "outputs": [],
   "source": [
    "import librosa\n",
    "import numpy as np"
   ]
  },
  {
   "cell_type": "code",
   "execution_count": 9,
   "id": "centered-transaction",
   "metadata": {},
   "outputs": [],
   "source": [
    "input1 = np.linspace(1,9984,9984)"
   ]
  },
  {
   "cell_type": "code",
   "execution_count": 68,
   "id": "western-gardening",
   "metadata": {},
   "outputs": [
    {
     "name": "stdout",
     "output_type": "stream",
     "text": [
      "mel_basis shape:  (60, 513)\n",
      "mel_basis [[0.         0.00528983 0.01057966 ... 0.         0.         0.        ]\n",
      " [0.         0.         0.         ... 0.         0.         0.        ]\n",
      " [0.         0.         0.         ... 0.         0.         0.        ]\n",
      " ...\n",
      " [0.         0.         0.         ... 0.         0.         0.        ]\n",
      " [0.         0.         0.         ... 0.         0.         0.        ]\n",
      " [0.         0.         0.         ... 0.00065959 0.0003298  0.        ]]\n"
     ]
    }
   ],
   "source": [
    "inp = input1\n",
    "n_mels = 60\n",
    "sr = 8000\n",
    "n_fft=1024\n",
    "hop_length = 256\n",
    "\n",
    "result1 = librosa.feature.melspectrogram(inp, n_mels=n_mels, sr=sr, n_fft=n_fft, hop_length=hop_length)"
   ]
  },
  {
   "cell_type": "code",
   "execution_count": 43,
   "id": "insured-attention",
   "metadata": {},
   "outputs": [],
   "source": [
    "def convert_1d_array_to_c(arr, varname=\"input_mel\"):\n",
    "    list_result = []\n",
    "    if (len(np.shape(arr))==1):\n",
    "        size = np.shape(arr)[0]\n",
    "        \n",
    "        list_result.append(\"double {}[{}] = {{\\n\".format(varname, size))\n",
    "        for i in range(0,size):\n",
    "            str_to_append = \"{0: .16f}\".format(arr[i])\n",
    "            if(i<size-1):\n",
    "                str_to_append += \", \"\n",
    "            if(not (i+1) % 100):\n",
    "                str_to_append += \"\\n\"\n",
    "            list_result.append(str_to_append)\n",
    "            \n",
    "        list_result.append(\"\\n};\")\n",
    "    \n",
    "    return \"\".join(list_result)"
   ]
  },
  {
   "cell_type": "code",
   "execution_count": 51,
   "id": "acoustic-vehicle",
   "metadata": {},
   "outputs": [],
   "source": [
    "str_input1 = convert_1d_array_to_c(input1)"
   ]
  },
  {
   "cell_type": "code",
   "execution_count": 52,
   "id": "environmental-pencil",
   "metadata": {},
   "outputs": [],
   "source": [
    "with open(\"./extra_components/MelSpec/tests/test_MockInput.c\", \"w\") as file:\n",
    "    file.write(str_input1)"
   ]
  },
  {
   "cell_type": "code",
   "execution_count": 58,
   "id": "light-reflection",
   "metadata": {},
   "outputs": [],
   "source": [
    "def convert_2d_array_to_c(arr, vartype=\"double\", varname=\"expected_mel\"):\n",
    "    list_result = []\n",
    "    if (len(np.shape(arr))==2):\n",
    "        size0 = np.shape(arr)[0]\n",
    "        size1 = np.shape(arr)[1]\n",
    "        \n",
    "        list_result.append(\"{} {}[{}][{}] = {{\\n\".format(vartype, varname, size0, size1))\n",
    "        for i in range(0,size0):\n",
    "            list_result.append(\"{{\\n\");\n",
    "            for j in range(0,size1):\n",
    "                str_to_append = \"{0: .16f}\".format(arr[i][j])\n",
    "                if(j<size1-1):\n",
    "                    str_to_append += \", \"\n",
    "                if(not (j+1) % 10):\n",
    "                    str_to_append += \"\\n\"\n",
    "                list_result.append(str_to_append)\n",
    "            list_result.append(\"}}\")\n",
    "            if (i<size0-1):\n",
    "                list_result.append(\",\")\n",
    "            list_result.append(\"\\n\")\n",
    "        list_result.append(\"\\n};\")\n",
    "    \n",
    "    return \"\".join(list_result)"
   ]
  },
  {
   "cell_type": "code",
   "execution_count": 59,
   "id": "engaging-zambia",
   "metadata": {},
   "outputs": [],
   "source": [
    "str_result1 = convert_2d_array_to_c(result1)"
   ]
  },
  {
   "cell_type": "code",
   "execution_count": 60,
   "id": "patient-dance",
   "metadata": {},
   "outputs": [],
   "source": [
    "with open(\"./extra_components/MelSpec/tests/test_MockExpectedMel.c\", \"w\") as file:\n",
    "    file.write(str_result1)"
   ]
  }
 ],
 "metadata": {
  "kernelspec": {
   "display_name": "Python 3",
   "language": "python",
   "name": "python3"
  },
  "language_info": {
   "codemirror_mode": {
    "name": "ipython",
    "version": 3
   },
   "file_extension": ".py",
   "mimetype": "text/x-python",
   "name": "python",
   "nbconvert_exporter": "python",
   "pygments_lexer": "ipython3",
   "version": "3.9.1"
  }
 },
 "nbformat": 4,
 "nbformat_minor": 5
}
