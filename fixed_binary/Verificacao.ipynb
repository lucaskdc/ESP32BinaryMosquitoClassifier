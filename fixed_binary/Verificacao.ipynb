{
 "cells": [
  {
   "cell_type": "code",
   "execution_count": 1,
   "id": "entire-strength",
   "metadata": {
    "tags": []
   },
   "outputs": [],
   "source": [
    "#import csv\n",
    "#import glob\n",
    "import os\n",
    "#import matplotlib.pyplot as plt\n",
    "\n",
    "import librosa\n",
    "import numpy as np\n",
    "from keras import Sequential\n",
    "from keras import Model\n",
    "from keras.layers import MaxPooling2D, Conv2D\n",
    "from keras.layers import Dense, Dropout, Flatten\n",
    "from sklearn.model_selection import StratifiedKFold\n",
    "import sklearn.metrics as skm\n",
    "\n",
    "from keras.models import model_from_json\n",
    "\n",
    "import struct"
   ]
  },
  {
   "cell_type": "code",
   "execution_count": 2,
   "id": "choice-native",
   "metadata": {
    "tags": []
   },
   "outputs": [],
   "source": [
    "def load_file(fname):\n",
    "    with open(fname, 'rb') as file:\n",
    "        data = file.read()\n",
    "        file.close()\n",
    "    return data\n",
    "\n",
    "def load_floats(fname):\n",
    "    data = load_file(fname)\n",
    "    fmt = \"%df\" % (len(data)/4)\n",
    "    frombin = np.asarray(struct.unpack(fmt, data))\n",
    "    return frombin\n",
    "\n",
    "def load_double(fname):\n",
    "    data = load_file(fname)\n",
    "    fmt = \"%dd\" % (len(data)/8)\n",
    "    frombin = np.asarray(struct.unpack(fmt, data))\n",
    "    return frombin\n",
    "\n",
    "def stats(nparr):\n",
    "    print(\"Size: \", nparr.shape)\n",
    "    print(\"Mean: \", nparr.mean())\n",
    "    print(\"Median: \", np.median(nparr))\n",
    "    print(\"StdDev: \", nparr.std(ddof=1))\n",
    "    print(\"Min: \", nparr.min())\n",
    "    print(\"Max: \", nparr.max())"
   ]
  },
  {
   "cell_type": "code",
   "execution_count": null,
   "id": "general-explosion",
   "metadata": {},
   "outputs": [],
   "source": []
  },
  {
   "cell_type": "code",
   "execution_count": 3,
   "id": "killing-george",
   "metadata": {
    "tags": []
   },
   "outputs": [],
   "source": [
    "loaded_model_json = load_file(\"model_binary.json\")\n",
    "model = model_from_json(loaded_model_json)\n",
    "model.load_weights(os.path.join(\"\",\"model_binary.h5\"))"
   ]
  },
  {
   "cell_type": "code",
   "execution_count": 4,
   "id": "happy-point",
   "metadata": {
    "tags": []
   },
   "outputs": [
    {
     "name": "stdout",
     "output_type": "stream",
     "text": [
      "Model: \"sequential\"\n",
      "_________________________________________________________________\n",
      " Layer (type)                Output Shape              Param #   \n",
      "=================================================================\n",
      " conv2d (Conv2D)             (None, 58, 38, 32)        320       \n",
      "                                                                 \n",
      " max_pooling2d (MaxPooling2D  (None, 29, 19, 32)       0         \n",
      " )                                                               \n",
      "                                                                 \n",
      " conv2d_1 (Conv2D)           (None, 27, 17, 64)        18496     \n",
      "                                                                 \n",
      " max_pooling2d_1 (MaxPooling  (None, 13, 8, 64)        0         \n",
      " 2D)                                                             \n",
      "                                                                 \n",
      " conv2d_2 (Conv2D)           (None, 11, 6, 64)         36928     \n",
      "                                                                 \n",
      " flatten (Flatten)           (None, 4224)              0         \n",
      "                                                                 \n",
      " dense (Dense)               (None, 256)               1081600   \n",
      "                                                                 \n",
      " dense_1 (Dense)             (None, 2)                 514       \n",
      "                                                                 \n",
      "=================================================================\n",
      "Total params: 1,137,858\n",
      "Trainable params: 1,137,858\n",
      "Non-trainable params: 0\n",
      "_________________________________________________________________\n"
     ]
    }
   ],
   "source": [
    "model.summary()"
   ]
  },
  {
   "cell_type": "code",
   "execution_count": 5,
   "id": "immediate-requirement",
   "metadata": {
    "tags": []
   },
   "outputs": [],
   "source": [
    "np.array(model.layers[0].weights[0]).tofile(\"BinaryV1conv2d_kernel_array.bin_weight\")\n",
    "np.array(model.layers[0].weights[1]).tofile(\"BinaryV1conv2d_bias_array.bin_weight\")\n",
    "\n",
    "np.array(model.layers[2].weights[0]).tofile(\"BinaryV1conv2d_1_kernel_array.bin_weight\")\n",
    "np.array(model.layers[2].weights[1]).tofile(\"BinaryV1conv2d_1_bias_array.bin_weight\")\n",
    "\n",
    "np.array(model.layers[4].weights[0]).tofile(\"BinaryV1conv2d_2_kernel_array.bin_weight\")\n",
    "np.array(model.layers[4].weights[1]).tofile(\"BinaryV1conv2d_2_bias_array.bin_weight\")\n",
    "\n",
    "np.array(model.layers[6].weights[0]).tofile(\"BinaryV1dense_kernel_array.bin_weight\")\n",
    "np.array(model.layers[6].weights[1]).tofile(\"BinaryV1dense_bias_array.bin_weight\")\n",
    "\n",
    "np.array(model.layers[7].weights[0]).tofile(\"BinaryV1dense_1_kernel_array.bin_weight\")\n",
    "np.array(model.layers[7].weights[1]).tofile(\"BinaryV1dense_1_bias_array.bin_weight\")"
   ]
  },
  {
   "cell_type": "raw",
   "id": "built-walker",
   "metadata": {},
   "source": [
    "features = np.load(\"features.npz\")\n",
    "features.f.arr_0.shape\n",
    "features.f.arr_1.shape"
   ]
  },
  {
   "cell_type": "code",
   "execution_count": null,
   "id": "african-johnston",
   "metadata": {},
   "outputs": [],
   "source": []
  },
  {
   "cell_type": "code",
   "execution_count": null,
   "id": "meaningful-fisher",
   "metadata": {},
   "outputs": [],
   "source": []
  },
  {
   "cell_type": "code",
   "execution_count": null,
   "id": "irish-sensitivity",
   "metadata": {},
   "outputs": [],
   "source": []
  },
  {
   "cell_type": "code",
   "execution_count": 6,
   "id": "republican-installation",
   "metadata": {
    "tags": []
   },
   "outputs": [
    {
     "name": "stdout",
     "output_type": "stream",
     "text": [
      "Extract features from {} list: {} T:\\mosquitos\\train_correctorder ['0', '1']\n",
      "finish reading\n"
     ]
    }
   ],
   "source": [
    "import glob\n",
    "file_url = 'T:\\\\mosquitos\\\\train_correctorder'\n",
    "sub_dirs = [\"0\",\"1\"]\n",
    "file_ext=\"*.wav\"\n",
    "hop_length = 256\n",
    "frames = 40\n",
    "sample_rate = 8000\n",
    "\n",
    "def windows(data, window_size):\n",
    "    start = 0\n",
    "    while start < len(data):\n",
    "        yield start, start + window_size\n",
    "        start += (window_size // 2)\n",
    "\n",
    "print(\"Extract features from {} list: {}\", file_url, sub_dirs)\n",
    "window_size = hop_length * (frames - 1)\n",
    "signals_pos = []\n",
    "signals_neg = []\n",
    "\n",
    "for l, sub_dir in enumerate(sub_dirs):\n",
    "    for fn in glob.glob(os.path.join(file_url, sub_dir, file_ext)):\n",
    "        sound_clip, _ = librosa.load(fn, sr=sample_rate)\n",
    "        #print('Extracting features from: ' + fn)\n",
    "        label = fn.split('\\\\')[-2]\n",
    "        for (start, end) in windows(sound_clip, window_size):\n",
    "            if (len(sound_clip[start:end]) == window_size):\n",
    "                signal = sound_clip[start:end]\n",
    "                lb = int(label)\n",
    "                if lb == 0:\n",
    "                    signals_neg.append(signal)\n",
    "                else:\n",
    "                    signals_pos.append(signal)\n",
    "                    \n",
    "print(\"finish reading\")"
   ]
  },
  {
   "cell_type": "code",
   "execution_count": 7,
   "id": "opposite-stopping",
   "metadata": {
    "tags": []
   },
   "outputs": [
    {
     "data": {
      "text/plain": [
       "21972"
      ]
     },
     "execution_count": 7,
     "metadata": {},
     "output_type": "execute_result"
    }
   ],
   "source": [
    "len(signals_neg)"
   ]
  },
  {
   "cell_type": "code",
   "execution_count": 8,
   "id": "ready-radius",
   "metadata": {
    "tags": []
   },
   "outputs": [
    {
     "data": {
      "text/plain": [
       "2756"
      ]
     },
     "execution_count": 8,
     "metadata": {},
     "output_type": "execute_result"
    }
   ],
   "source": [
    "len(signals_pos)"
   ]
  },
  {
   "cell_type": "code",
   "execution_count": 9,
   "id": "bottom-medication",
   "metadata": {
    "tags": []
   },
   "outputs": [],
   "source": [
    "import random\n",
    "random.seed(a=\"PROJETO DE DIPLOMACAUM CASTEL\", version=2)\n",
    "rnd_pos = random.sample(signals_pos, 120)\n",
    "rnd_neg = random.sample(signals_neg, 120)"
   ]
  },
  {
   "cell_type": "code",
   "execution_count": 10,
   "id": "interested-closing",
   "metadata": {
    "tags": []
   },
   "outputs": [
    {
     "data": {
      "text/plain": [
       "True"
      ]
     },
     "execution_count": 10,
     "metadata": {},
     "output_type": "execute_result"
    }
   ],
   "source": [
    "np.all(np.asarray(rnd_pos)[1,:] == rnd_pos[1])"
   ]
  },
  {
   "cell_type": "code",
   "execution_count": 11,
   "id": "subject-loading",
   "metadata": {
    "tags": []
   },
   "outputs": [],
   "source": [
    "np.asarray(rnd_pos).tofile(\"p120_9984.fbin\")\n",
    "np.asarray(rnd_neg).tofile(\"n120_9984.fbin\")"
   ]
  },
  {
   "cell_type": "code",
   "execution_count": 12,
   "id": "coordinate-dylan",
   "metadata": {
    "tags": []
   },
   "outputs": [],
   "source": [
    "pos_arr120 = np.asarray(rnd_pos)\n",
    "neg_arr120 = np.asarray(rnd_neg)\n",
    "\n",
    "feat = []\n",
    "for i in range(0,120):\n",
    "    melspec = librosa.feature.melspectrogram(y=pos_arr120[i], n_mels=60, sr=8000, n_fft=1024, hop_length=256)\n",
    "    dbcalc = librosa.power_to_db(melspec, ref=np.max)\n",
    "    normcalc = dbcalc / 80 + 1\n",
    "    flatten = normcalc.flatten()[:, np.newaxis].T\n",
    "    toNN = np.asarray([flatten]).reshape(60,40,1)\n",
    "    feat.append(toNN)\n",
    "    \n",
    "    melspec = librosa.feature.melspectrogram(y=neg_arr120[i], n_mels=60, sr=8000, n_fft=1024, hop_length=256)\n",
    "    dbcalc = librosa.power_to_db(melspec, ref=np.max)\n",
    "    normcalc = dbcalc / 80 + 1\n",
    "    flatten = normcalc.flatten()[:, np.newaxis].T\n",
    "    toNN = np.asarray([flatten]).reshape(60,40,1)\n",
    "    feat.append(toNN)\n",
    "\n"
   ]
  },
  {
   "cell_type": "code",
   "execution_count": 13,
   "id": "atomic-notice",
   "metadata": {
    "tags": []
   },
   "outputs": [
    {
     "name": "stdout",
     "output_type": "stream",
     "text": [
      "8/8 [==============================] - 0s 15ms/step\n"
     ]
    }
   ],
   "source": [
    "res = model.predict(np.asarray(feat))"
   ]
  },
  {
   "cell_type": "code",
   "execution_count": 14,
   "id": "unable-crystal",
   "metadata": {
    "tags": []
   },
   "outputs": [
    {
     "name": "stdout",
     "output_type": "stream",
     "text": [
      "1/1 [==============================] - 0s 29ms/step\n"
     ]
    },
    {
     "data": {
      "text/plain": [
       "0.091"
      ]
     },
     "execution_count": 14,
     "metadata": {},
     "output_type": "execute_result"
    }
   ],
   "source": [
    "import datetime\n",
    "a = datetime.datetime.now()\n",
    "model.predict(np.asarray([feat[6]]))\n",
    "b = datetime.datetime.now()\n",
    "(b-a).total_seconds()"
   ]
  },
  {
   "cell_type": "code",
   "execution_count": 15,
   "id": "collectible-commodity",
   "metadata": {
    "tags": []
   },
   "outputs": [
    {
     "data": {
      "text/plain": [
       "0.008002"
      ]
     },
     "execution_count": 15,
     "metadata": {},
     "output_type": "execute_result"
    }
   ],
   "source": [
    "\n",
    "a = datetime.datetime.now()\n",
    "\n",
    "melspec = librosa.feature.melspectrogram(y=neg_arr120[0], n_mels=60, sr=8000, n_fft=1024, hop_length=256)\n",
    "dbcalc = librosa.power_to_db(melspec, ref=np.max)\n",
    "normcalc = dbcalc / 80 + 1\n",
    "flatten = normcalc.flatten()[:, np.newaxis].T\n",
    "toNN = np.asarray([flatten]).reshape(60,40,1)\n",
    "\n",
    "b = datetime.datetime.now()\n",
    "(b-a).total_seconds()"
   ]
  },
  {
   "cell_type": "code",
   "execution_count": 16,
   "id": "useful-antigua",
   "metadata": {
    "tags": []
   },
   "outputs": [
    {
     "data": {
      "text/plain": [
       "(240, 2)"
      ]
     },
     "execution_count": 16,
     "metadata": {},
     "output_type": "execute_result"
    }
   ],
   "source": [
    "res.shape"
   ]
  },
  {
   "cell_type": "code",
   "execution_count": 17,
   "id": "downtown-agency",
   "metadata": {
    "tags": []
   },
   "outputs": [
    {
     "data": {
      "text/plain": [
       "array([[0.11799723, 0.9299436 ],\n",
       "       [0.9962553 , 0.0125499 ]], dtype=float32)"
      ]
     },
     "execution_count": 17,
     "metadata": {},
     "output_type": "execute_result"
    }
   ],
   "source": [
    "i=5\n",
    "res[(i-1)*2:(i-1)*2+2,:]"
   ]
  },
  {
   "cell_type": "code",
   "execution_count": 18,
   "id": "warming-process",
   "metadata": {
    "tags": []
   },
   "outputs": [
    {
     "data": {
      "text/plain": [
       "array([ True,  True,  True,  True,  True,  True,  True,  True,  True,\n",
       "       False,  True, False,  True,  True,  True,  True,  True,  True,\n",
       "       False, False,  True,  True,  True, False,  True,  True,  True,\n",
       "        True,  True, False,  True,  True,  True,  True,  True,  True,\n",
       "       False,  True,  True,  True, False,  True,  True,  True,  True,\n",
       "        True,  True,  True,  True,  True,  True, False, False, False,\n",
       "       False,  True, False, False,  True,  True,  True,  True,  True,\n",
       "        True,  True,  True,  True,  True,  True, False, False,  True,\n",
       "        True,  True,  True,  True,  True,  True, False,  True,  True,\n",
       "       False,  True,  True,  True,  True,  True,  True,  True,  True,\n",
       "        True,  True,  True,  True, False,  True,  True,  True,  True,\n",
       "        True,  True,  True, False,  True, False,  True,  True,  True,\n",
       "        True,  True,  True,  True, False,  True,  True, False, False,\n",
       "       False,  True,  True])"
      ]
     },
     "execution_count": 18,
     "metadata": {},
     "output_type": "execute_result"
    }
   ],
   "source": [
    "(res[:,1] > res[:,0])[0::2]"
   ]
  },
  {
   "cell_type": "code",
   "execution_count": 19,
   "id": "graphic-nursing",
   "metadata": {
    "tags": []
   },
   "outputs": [],
   "source": [
    "#res"
   ]
  },
  {
   "cell_type": "code",
   "execution_count": 20,
   "id": "studied-spelling",
   "metadata": {
    "tags": []
   },
   "outputs": [],
   "source": [
    "esp32outFloat = load_floats(\"outputs120_pn_2_2---FLOATFPRECISION.fbin\").reshape(240,2)\n",
    "esp32outDouble = load_floats(\"outputs120_pn_2_2---DOUBLEFPRECISION.fbin\").reshape(240,2)"
   ]
  },
  {
   "cell_type": "code",
   "execution_count": 21,
   "id": "narrative-belfast",
   "metadata": {
    "tags": []
   },
   "outputs": [
    {
     "name": "stdout",
     "output_type": "stream",
     "text": [
      "Size:  (240, 2)\n",
      "Mean:  -3.958985562744927e-09\n",
      "Median:  0.0\n",
      "StdDev:  6.239832816044236e-07\n",
      "Min:  -3.635883331298828e-06\n",
      "Max:  3.4868717193603516e-06\n"
     ]
    }
   ],
   "source": [
    "diffF = res-esp32outFloat\n",
    "stats(diffF)"
   ]
  },
  {
   "cell_type": "code",
   "execution_count": 22,
   "id": "north-factory",
   "metadata": {
    "tags": []
   },
   "outputs": [
    {
     "name": "stdout",
     "output_type": "stream",
     "text": [
      "Size:  (240, 2)\n",
      "Mean:  9.96974607015387e-10\n",
      "Median:  0.0\n",
      "StdDev:  1.5005702866602839e-07\n",
      "Min:  -1.0132789611816406e-06\n",
      "Max:  1.0132789611816406e-06\n"
     ]
    }
   ],
   "source": [
    "diffD = res-esp32outDouble\n",
    "stats(diffD)"
   ]
  },
  {
   "cell_type": "code",
   "execution_count": 23,
   "id": "interior-toolbox",
   "metadata": {
    "tags": []
   },
   "outputs": [
    {
     "name": "stdout",
     "output_type": "stream",
     "text": [
      "Size:  (240, 2)\n",
      "Mean:  3.0016991689958635e-07\n",
      "Median:  5.960464477539063e-08\n",
      "StdDev:  5.468827650037293e-07\n",
      "Min:  0.0\n",
      "Max:  3.635883331298828e-06\n",
      "Size:  (240, 2)\n",
      "Mean:  7.289783086822984e-08\n",
      "Median:  8.207280188798904e-09\n",
      "StdDev:  1.3112177545621566e-07\n",
      "Min:  0.0\n",
      "Max:  1.0132789611816406e-06\n"
     ]
    }
   ],
   "source": [
    "stats(abs(diffF))\n",
    "stats(abs(diffD))"
   ]
  },
  {
   "cell_type": "code",
   "execution_count": 24,
   "id": "accredited-least",
   "metadata": {
    "tags": []
   },
   "outputs": [
    {
     "data": {
      "text/plain": [
       "True"
      ]
     },
     "execution_count": 24,
     "metadata": {},
     "output_type": "execute_result"
    }
   ],
   "source": [
    "np.all((res[:,1] > res[:,0]) == (esp32outFloat[:,1]>esp32outFloat[:,0]))"
   ]
  },
  {
   "cell_type": "code",
   "execution_count": 25,
   "id": "interim-acrylic",
   "metadata": {
    "tags": []
   },
   "outputs": [
    {
     "data": {
      "text/plain": [
       "True"
      ]
     },
     "execution_count": 25,
     "metadata": {},
     "output_type": "execute_result"
    }
   ],
   "source": [
    "np.all((res[:,1] > res[:,0]) == (esp32outDouble[:,1]>esp32outDouble[:,0]))"
   ]
  },
  {
   "cell_type": "code",
   "execution_count": 26,
   "id": "urban-shuttle",
   "metadata": {
    "tags": []
   },
   "outputs": [
    {
     "name": "stdout",
     "output_type": "stream",
     "text": [
      "Size:  (240,)\n",
      "Mean:  0.7633091\n",
      "Median:  0.94322133\n",
      "StdDev:  0.30812207\n",
      "Min:  0.00013041496\n",
      "Max:  1.0\n"
     ]
    }
   ],
   "source": [
    "stats(abs(res[:,1]-res[:,0]))"
   ]
  },
  {
   "cell_type": "code",
   "execution_count": 27,
   "id": "satellite-examination",
   "metadata": {
    "tags": []
   },
   "outputs": [
    {
     "data": {
      "text/plain": [
       "Text(0.5, 1.0, '')"
      ]
     },
     "execution_count": 27,
     "metadata": {},
     "output_type": "execute_result"
    },
    {
     "data": {
      "image/png": "[encoded data removed]",
      "text/plain": [
       "<Figure size 640x480 with 1 Axes>"
      ]
     },
     "metadata": {},
     "output_type": "display_data"
    }
   ],
   "source": [
    "import matplotlib.pyplot as plt\n",
    "\n",
    "hist, bin_edges = np.histogram(diffF,bins=np.arange(-4e-6,4e-6,2e-7))#range=(-5e-6,+5e-6),\n",
    "\n",
    "# An \"interface\" to matplotlib.axes.Axes.hist() method\n",
    "n, bins, patches = plt.hist([diffF.flatten(),diffD.flatten()], bins=bin_edges, histtype=\"stepfilled\", alpha=0.6)\n",
    "plt.grid(axis='y', alpha=0.75)\n",
    "plt.xlabel('Valor do erro')\n",
    "plt.ylabel('Frequência')\n",
    "plt.title('')\n",
    "\n",
    "#plt.savefig(\"../Imagens autorais PD/HistrogramaErroFix2.png\", dpi=300)"
   ]
  },
  {
   "cell_type": "code",
   "execution_count": 28,
   "id": "tutorial-workstation",
   "metadata": {
    "tags": []
   },
   "outputs": [
    {
     "data": {
      "text/plain": [
       "{'whiskers': [<matplotlib.lines.Line2D at 0x13d59568970>,\n",
       "  <matplotlib.lines.Line2D at 0x13d59568d00>],\n",
       " 'caps': [<matplotlib.lines.Line2D at 0x13d595770d0>,\n",
       "  <matplotlib.lines.Line2D at 0x13d59577460>],\n",
       " 'boxes': [<matplotlib.lines.Line2D at 0x13d595685e0>],\n",
       " 'medians': [<matplotlib.lines.Line2D at 0x13d595777f0>],\n",
       " 'fliers': [],\n",
       " 'means': []}"
      ]
     },
     "execution_count": 28,
     "metadata": {},
     "output_type": "execute_result"
    },
    {
     "data": {
      "image/png": "[encoded data removed]",
      "text/plain": [
       "<Figure size 640x480 with 1 Axes>"
      ]
     },
     "metadata": {},
     "output_type": "display_data"
    }
   ],
   "source": [
    "plt.boxplot([diffF.flatten()],sym='', notch=None, bootstrap=1000, vert=None, patch_artist=None, widths=None)"
   ]
  },
  {
   "cell_type": "code",
   "execution_count": 29,
   "id": "rocky-shelter",
   "metadata": {
    "tags": []
   },
   "outputs": [
    {
     "data": {
      "text/plain": [
       "4.950898388434918e-09"
      ]
     },
     "execution_count": 29,
     "metadata": {},
     "output_type": "execute_result"
    }
   ],
   "source": [
    "diffD[:,1].mean()"
   ]
  },
  {
   "cell_type": "code",
   "execution_count": 30,
   "id": "parallel-edward",
   "metadata": {
    "tags": []
   },
   "outputs": [
    {
     "name": "stdout",
     "output_type": "stream",
     "text": [
      "Size:  (480,)\n",
      "Mean:  -3.958985562744927e-09\n",
      "Median:  0.0\n",
      "StdDev:  6.239832816044236e-07\n",
      "Min:  -3.635883331298828e-06\n",
      "Max:  3.4868717193603516e-06\n"
     ]
    }
   ],
   "source": [
    "stats(diffF.flatten())"
   ]
  },
  {
   "cell_type": "code",
   "execution_count": 31,
   "id": "increased-patrick",
   "metadata": {
    "tags": []
   },
   "outputs": [
    {
     "data": {
      "text/plain": [
       "Text(0.5, 1.0, '')"
      ]
     },
     "execution_count": 31,
     "metadata": {},
     "output_type": "execute_result"
    },
    {
     "data": {
      "image/png": "[encoded data removed]",
      "text/plain": [
       "<Figure size 640x480 with 1 Axes>"
      ]
     },
     "metadata": {},
     "output_type": "display_data"
    }
   ],
   "source": [
    "#hist, bin_edges = np.histogram(diffF,bins=np.arange(-4e-6,4e-6,2e-7))#range=(-5e-6,+5e-6),\n",
    "hist, bin_edges = np.histogram(res[:,1]-res[:,0], np.arange(-1,1,0.1))\n",
    "\n",
    "# An \"interface\" to matplotlib.axes.Axes.hist() method\n",
    "n, bins, patches = plt.hist(([res[:,1]-res[:,0]]), bins=bin_edges, histtype=\"stepfilled\", alpha=0.6)\n",
    "plt.grid(axis='y', alpha=0.75)\n",
    "plt.xlabel('Valor da diferença')\n",
    "plt.ylabel('Frequência')\n",
    "plt.title('')"
   ]
  },
  {
   "cell_type": "code",
   "execution_count": 32,
   "id": "unusual-blast",
   "metadata": {
    "tags": []
   },
   "outputs": [
    {
     "data": {
      "text/plain": [
       "0.00013041496"
      ]
     },
     "execution_count": 32,
     "metadata": {},
     "output_type": "execute_result"
    }
   ],
   "source": [
    "np.abs(res[:,1]-res[:,0]).min()"
   ]
  },
  {
   "cell_type": "code",
   "execution_count": 33,
   "id": "military-fundamental",
   "metadata": {
    "tags": []
   },
   "outputs": [],
   "source": [
    "def intermediate_layer(model,i,data):\n",
    "    if i == 0:\n",
    "        return data\n",
    "    else:\n",
    "        XX = model.input\n",
    "        YY = model.layers[i-1].output\n",
    "        new_model = Model(XX, YY)\n",
    "        return new_model.predict(data)"
   ]
  },
  {
   "cell_type": "code",
   "execution_count": 34,
   "id": "functional-comparison",
   "metadata": {
    "tags": []
   },
   "outputs": [
    {
     "data": {
      "text/plain": [
       "array([[ 1,  2,  3,  4,  5],\n",
       "       [ 6,  7,  8,  9, 10],\n",
       "       [11, 12, 13, 14, 15]])"
      ]
     },
     "execution_count": 34,
     "metadata": {},
     "output_type": "execute_result"
    }
   ],
   "source": [
    "t = np.array([[1,2,3,4,5],[6,7,8,9,10],[11,12,13,14,15]])\n",
    "u = t*10\n",
    "t"
   ]
  },
  {
   "cell_type": "code",
   "execution_count": 35,
   "id": "relative-smart",
   "metadata": {
    "tags": []
   },
   "outputs": [
    {
     "data": {
      "text/plain": [
       "array([[ 1,  6, 11,  2,  7, 12,  3,  8, 13,  4,  9, 14,  5, 10, 15]])"
      ]
     },
     "execution_count": 35,
     "metadata": {},
     "output_type": "execute_result"
    }
   ],
   "source": [
    "t2 = t.T.flatten()[:,np.newaxis].T\n",
    "u2 = u.T.flatten()[:,np.newaxis].T\n",
    "\n",
    "t2"
   ]
  },
  {
   "cell_type": "code",
   "execution_count": 36,
   "id": "preliminary-tenant",
   "metadata": {
    "tags": []
   },
   "outputs": [
    {
     "data": {
      "text/plain": [
       "array([[ 1,  6, 11,  2,  7],\n",
       "       [12,  3,  8, 13,  4],\n",
       "       [ 9, 14,  5, 10, 15]])"
      ]
     },
     "execution_count": 36,
     "metadata": {},
     "output_type": "execute_result"
    }
   ],
   "source": [
    "t3 = np.asarray([t2,u2]).reshape(2,3,5,1)\n",
    "t3[0,:,:,0]"
   ]
  },
  {
   "cell_type": "code",
   "execution_count": 37,
   "id": "commercial-terrain",
   "metadata": {
    "tags": []
   },
   "outputs": [],
   "source": [
    "sdinp = load_floats(\"n120_9984.fbin\")[0:9984]\n"
   ]
  },
  {
   "cell_type": "code",
   "execution_count": null,
   "id": "medieval-cooking",
   "metadata": {},
   "outputs": [],
   "source": []
  },
  {
   "cell_type": "code",
   "execution_count": 39,
   "id": "ultimate-storm",
   "metadata": {
    "tags": []
   },
   "outputs": [],
   "source": [
    "#MelInp = load_double(\"MelInp.dbin\")\n"
   ]
  },
  {
   "cell_type": "code",
   "execution_count": null,
   "id": "quick-horror",
   "metadata": {
    "tags": []
   },
   "outputs": [],
   "source": [
    "#sdinp[2450:2500]"
   ]
  },
  {
   "cell_type": "code",
   "execution_count": null,
   "id": "legitimate-warner",
   "metadata": {
    "tags": []
   },
   "outputs": [],
   "source": [
    "#MelInp[2450:2500]"
   ]
  },
  {
   "cell_type": "code",
   "execution_count": null,
   "id": "positive-number",
   "metadata": {
    "tags": []
   },
   "outputs": [],
   "source": [
    "#a = 2450\n",
    "#sdinp[a:a+50]-MelInp[a:a+50]"
   ]
  },
  {
   "cell_type": "code",
   "execution_count": null,
   "id": "inclusive-circumstances",
   "metadata": {
    "tags": []
   },
   "outputs": [],
   "source": [
    "#MelInp = load_double(\"MelInp.dbin\")\n",
    "#stats(MelInp)"
   ]
  },
  {
   "cell_type": "code",
   "execution_count": null,
   "id": "desperate-rochester",
   "metadata": {},
   "outputs": [],
   "source": []
  },
  {
   "cell_type": "code",
   "execution_count": null,
   "id": "boxed-repository",
   "metadata": {
    "tags": []
   },
   "outputs": [],
   "source": [
    "#toDb = load_double(\"TodBInp.dbin\")\n",
    "#stats(toDb)"
   ]
  },
  {
   "cell_type": "code",
   "execution_count": null,
   "id": "expressed-voice",
   "metadata": {
    "tags": []
   },
   "outputs": [],
   "source": [
    "#NormImp = load_double(\"NormInp.dbin\")\n",
    "#stats(NormImp)"
   ]
  },
  {
   "cell_type": "code",
   "execution_count": 40,
   "id": "fuzzy-seating",
   "metadata": {
    "tags": []
   },
   "outputs": [
    {
     "ename": "NameError",
     "evalue": "name 'MelInp' is not defined",
     "output_type": "error",
     "traceback": [
      "\u001b[1;31m---------------------------------------------------------------------------\u001b[0m",
      "\u001b[1;31mNameError\u001b[0m                                 Traceback (most recent call last)",
      "Cell \u001b[1;32mIn[40], line 1\u001b[0m\n\u001b[1;32m----> 1\u001b[0m melspec \u001b[38;5;241m=\u001b[39m librosa\u001b[38;5;241m.\u001b[39mfeature\u001b[38;5;241m.\u001b[39mmelspectrogram(y\u001b[38;5;241m=\u001b[39m\u001b[43mMelInp\u001b[49m, n_mels\u001b[38;5;241m=\u001b[39m\u001b[38;5;241m60\u001b[39m, sr\u001b[38;5;241m=\u001b[39m\u001b[38;5;241m8000\u001b[39m, n_fft\u001b[38;5;241m=\u001b[39m\u001b[38;5;241m1024\u001b[39m, hop_length\u001b[38;5;241m=\u001b[39m\u001b[38;5;241m256\u001b[39m)\n\u001b[0;32m      2\u001b[0m dbcalc \u001b[38;5;241m=\u001b[39m librosa\u001b[38;5;241m.\u001b[39mpower_to_db(melspec, ref\u001b[38;5;241m=\u001b[39mnp\u001b[38;5;241m.\u001b[39mmax)\n\u001b[0;32m      3\u001b[0m normcalc \u001b[38;5;241m=\u001b[39m dbcalc \u001b[38;5;241m/\u001b[39m \u001b[38;5;241m80\u001b[39m \u001b[38;5;241m+\u001b[39m \u001b[38;5;241m1\u001b[39m\n",
      "\u001b[1;31mNameError\u001b[0m: name 'MelInp' is not defined"
     ]
    }
   ],
   "source": [
    "melspec = librosa.feature.melspectrogram(y=MelInp, n_mels=60, sr=8000, n_fft=1024, hop_length=256)\n",
    "dbcalc = librosa.power_to_db(melspec, ref=np.max)\n",
    "normcalc = dbcalc / 80 + 1\n",
    "flatten = normcalc.flatten()[:, np.newaxis].T\n",
    "toNN = np.asarray([flatten]).reshape(1,60,40,1)"
   ]
  },
  {
   "cell_type": "code",
   "execution_count": null,
   "id": "armed-idaho",
   "metadata": {
    "tags": []
   },
   "outputs": [],
   "source": [
    "melspec.dtype"
   ]
  },
  {
   "cell_type": "code",
   "execution_count": null,
   "id": "chemical-houston",
   "metadata": {
    "tags": []
   },
   "outputs": [],
   "source": [
    "np.asarray([normcalc[:,:,np.newaxis]]).shape"
   ]
  },
  {
   "cell_type": "code",
   "execution_count": null,
   "id": "blocked-spencer",
   "metadata": {
    "tags": []
   },
   "outputs": [],
   "source": [
    "stats(np.asarray([melspec]).reshape(1,60,40,1)-toDb.reshape(1,60,40,1))"
   ]
  },
  {
   "cell_type": "code",
   "execution_count": null,
   "id": "reasonable-mixer",
   "metadata": {
    "tags": []
   },
   "outputs": [],
   "source": [
    "stats(dbcalc.reshape(1,60,40,1)-NormImp.reshape(1,60,40,1))"
   ]
  },
  {
   "cell_type": "code",
   "execution_count": null,
   "id": "union-interval",
   "metadata": {},
   "outputs": [],
   "source": []
  },
  {
   "cell_type": "code",
   "execution_count": null,
   "id": "disabled-trauma",
   "metadata": {},
   "outputs": [],
   "source": []
  },
  {
   "cell_type": "code",
   "execution_count": null,
   "id": "vanilla-mayor",
   "metadata": {
    "tags": []
   },
   "outputs": [],
   "source": [
    "stats(melspec)"
   ]
  },
  {
   "cell_type": "code",
   "execution_count": null,
   "id": "cellular-exclusion",
   "metadata": {
    "tags": []
   },
   "outputs": [],
   "source": [
    "stats(toDb)"
   ]
  },
  {
   "cell_type": "code",
   "execution_count": null,
   "id": "awful-findings",
   "metadata": {
    "tags": []
   },
   "outputs": [],
   "source": [
    "stats(in0.reshape(1,60,40,1)-toNN)"
   ]
  },
  {
   "cell_type": "code",
   "execution_count": null,
   "id": "bigger-upgrade",
   "metadata": {
    "tags": []
   },
   "outputs": [],
   "source": [
    "model.predict(toNN.reshape(1,60,40,1))"
   ]
  },
  {
   "cell_type": "code",
   "execution_count": null,
   "id": "atmospheric-weapon",
   "metadata": {
    "tags": []
   },
   "outputs": [],
   "source": [
    "model.predict(in0.reshape(1,60,40,1))"
   ]
  },
  {
   "cell_type": "code",
   "execution_count": null,
   "id": "wrong-manhattan",
   "metadata": {
    "tags": []
   },
   "outputs": [],
   "source": [
    "in8"
   ]
  },
  {
   "cell_type": "code",
   "execution_count": null,
   "id": "tribal-conclusion",
   "metadata": {
    "tags": []
   },
   "outputs": [],
   "source": [
    "in0 = load_floats(\"00.fbin\").reshape(60,40)\n",
    "stats(in0)"
   ]
  },
  {
   "cell_type": "code",
   "execution_count": null,
   "id": "provincial-proposal",
   "metadata": {
    "tags": []
   },
   "outputs": [],
   "source": [
    "in1 = load_floats(\"01.fbin\").reshape(58,38,32)\n",
    "stats(in1)"
   ]
  },
  {
   "cell_type": "code",
   "execution_count": null,
   "id": "contemporary-printer",
   "metadata": {
    "tags": []
   },
   "outputs": [],
   "source": [
    "real1 = intermediate_layer(model,1,in0.reshape(1,60,40,1))\n",
    "stats(real1)"
   ]
  },
  {
   "cell_type": "code",
   "execution_count": null,
   "id": "linear-possession",
   "metadata": {
    "tags": []
   },
   "outputs": [],
   "source": [
    "in2 = load_floats(\"02.fbin\").reshape(29,19,32)\n",
    "stats(in2)"
   ]
  },
  {
   "cell_type": "code",
   "execution_count": null,
   "id": "violent-girlfriend",
   "metadata": {
    "tags": []
   },
   "outputs": [],
   "source": [
    "real2 = intermediate_layer(model,2,in0.reshape(1,60,40,1))\n",
    "stats(real2)"
   ]
  },
  {
   "cell_type": "code",
   "execution_count": null,
   "id": "improving-judge",
   "metadata": {
    "tags": []
   },
   "outputs": [],
   "source": [
    "in3 = load_floats(\"03.fbin\").reshape(27,17,64)\n",
    "stats(in3)"
   ]
  },
  {
   "cell_type": "code",
   "execution_count": null,
   "id": "suburban-fashion",
   "metadata": {
    "tags": []
   },
   "outputs": [],
   "source": [
    "real3 = intermediate_layer(model,3,in0.reshape(1,60,40,1))\n",
    "stats(real3)"
   ]
  },
  {
   "cell_type": "code",
   "execution_count": null,
   "id": "likely-french",
   "metadata": {
    "tags": []
   },
   "outputs": [],
   "source": [
    "in4 = load_floats(\"04.fbin\").reshape(13,8,64)\n",
    "stats(in4)"
   ]
  },
  {
   "cell_type": "code",
   "execution_count": null,
   "id": "civilian-legislature",
   "metadata": {
    "tags": []
   },
   "outputs": [],
   "source": [
    "real4 = intermediate_layer(model,4,in0.reshape(1,60,40,1))\n",
    "stats(real4)"
   ]
  },
  {
   "cell_type": "code",
   "execution_count": null,
   "id": "rubber-satin",
   "metadata": {
    "tags": []
   },
   "outputs": [],
   "source": [
    "in5 = load_floats(\"05.fbin\").reshape(11,6,64)\n",
    "stats(in5)"
   ]
  },
  {
   "cell_type": "code",
   "execution_count": null,
   "id": "ahead-numbers",
   "metadata": {
    "tags": []
   },
   "outputs": [],
   "source": [
    "real5 = intermediate_layer(model,5,in0.reshape(1,60,40,1))\n",
    "stats(real5)"
   ]
  },
  {
   "cell_type": "code",
   "execution_count": null,
   "id": "spiritual-kinase",
   "metadata": {
    "tags": []
   },
   "outputs": [],
   "source": [
    "in6 = load_floats(\"06.fbin\").reshape(4224)\n",
    "stats(in6)"
   ]
  },
  {
   "cell_type": "code",
   "execution_count": null,
   "id": "dedicated-cheese",
   "metadata": {
    "tags": []
   },
   "outputs": [],
   "source": [
    "real6 = intermediate_layer(model,6,in0.reshape(1,60,40,1))\n",
    "stats(real6)"
   ]
  },
  {
   "cell_type": "code",
   "execution_count": null,
   "id": "front-compensation",
   "metadata": {
    "tags": []
   },
   "outputs": [],
   "source": [
    "in7 = load_floats(\"07.fbin\").reshape(256)\n",
    "stats(in7)"
   ]
  },
  {
   "cell_type": "code",
   "execution_count": null,
   "id": "infinite-activity",
   "metadata": {
    "tags": []
   },
   "outputs": [],
   "source": [
    "real7 = intermediate_layer(model,7,in0.reshape(1,60,40,1))\n",
    "stats(real7)"
   ]
  },
  {
   "cell_type": "code",
   "execution_count": null,
   "id": "russian-berry",
   "metadata": {
    "tags": []
   },
   "outputs": [],
   "source": [
    "in8 = load_floats(\"08.fbin\").reshape(2)\n",
    "stats(in8)"
   ]
  },
  {
   "cell_type": "code",
   "execution_count": null,
   "id": "designing-karaoke",
   "metadata": {
    "tags": []
   },
   "outputs": [],
   "source": [
    "real8 = intermediate_layer(model,8,in0.reshape(1,60,40,1))\n",
    "stats(real8)"
   ]
  },
  {
   "cell_type": "code",
   "execution_count": null,
   "id": "overhead-horizon",
   "metadata": {
    "tags": []
   },
   "outputs": [],
   "source": [
    "real8"
   ]
  },
  {
   "cell_type": "code",
   "execution_count": null,
   "id": "convertible-essence",
   "metadata": {},
   "outputs": [],
   "source": []
  },
  {
   "cell_type": "code",
   "execution_count": null,
   "id": "changing-guyana",
   "metadata": {
    "tags": []
   },
   "outputs": [],
   "source": [
    "import tensorflow as tf\n",
    "converter = tf.lite.TFLiteConverter.from_keras_model(model)\n",
    "converter.optimizations = [tf.lite.Optimize.DEFAULT]\n",
    "tflite_quant_model = converter.convert()"
   ]
  },
  {
   "cell_type": "code",
   "execution_count": null,
   "id": "referenced-moral",
   "metadata": {
    "tags": []
   },
   "outputs": [],
   "source": [
    "len(tflite_quant_model)"
   ]
  },
  {
   "cell_type": "code",
   "execution_count": null,
   "id": "shared-archives",
   "metadata": {
    "tags": []
   },
   "outputs": [],
   "source": [
    "model.layers[7].activation"
   ]
  },
  {
   "cell_type": "code",
   "execution_count": null,
   "id": "laughing-comment",
   "metadata": {
    "tags": []
   },
   "outputs": [],
   "source": [
    "np.mean(res)"
   ]
  },
  {
   "cell_type": "code",
   "execution_count": null,
   "id": "juvenile-player",
   "metadata": {
    "tags": []
   },
   "outputs": [],
   "source": [
    "import pandas as pd\n",
    "pd.dataFrame = {}"
   ]
  },
  {
   "cell_type": "code",
   "execution_count": null,
   "id": "based-patrol",
   "metadata": {
    "tags": []
   },
   "outputs": [],
   "source": [
    "import bioinfokit.analys.stat\n",
    "anova = bioinfokit.analys.stat()\n",
    "anova.anova_stat(df=df_melt, res_var='value', anova_model='value ~ C(treatments)')\n",
    "anova.anova_summary"
   ]
  },
  {
   "cell_type": "code",
   "execution_count": 2,
   "id": "whole-tunisia",
   "metadata": {
    "tags": []
   },
   "outputs": [],
   "source": [
    "import pandas as pd\n",
    "dados = pd.read_excel(\"../dados.xls\",sheet_name=\"NovosTempos\")"
   ]
  },
  {
   "cell_type": "code",
   "execution_count": 3,
   "id": "rental-divide",
   "metadata": {
    "tags": []
   },
   "outputs": [
    {
     "name": "stderr",
     "output_type": "stream",
     "text": [
      "C:\\Users\\lucas\\AppData\\Local\\Temp\\ipykernel_17040\\1281730340.py:1: UserWarning: Boolean Series key will be reindexed to match DataFrame index.\n",
      "  dados[dados[\"Compile Opt\"] == \"O2\"][dados[\"Clock SPI RAM\"]==40][dados[\"Workaround cache\"]==\"memw\"]\n",
      "C:\\Users\\lucas\\AppData\\Local\\Temp\\ipykernel_17040\\1281730340.py:1: UserWarning: Boolean Series key will be reindexed to match DataFrame index.\n",
      "  dados[dados[\"Compile Opt\"] == \"O2\"][dados[\"Clock SPI RAM\"]==40][dados[\"Workaround cache\"]==\"memw\"]\n"
     ]
    },
    {
     "data": {
      "text/html": [
       "<div>\n",
       "<style scoped>\n",
       "    .dataframe tbody tr th:only-of-type {\n",
       "        vertical-align: middle;\n",
       "    }\n",
       "\n",
       "    .dataframe tbody tr th {\n",
       "        vertical-align: top;\n",
       "    }\n",
       "\n",
       "    .dataframe thead th {\n",
       "        text-align: right;\n",
       "    }\n",
       "</style>\n",
       "<table border=\"1\" class=\"dataframe\">\n",
       "  <thead>\n",
       "    <tr style=\"text-align: right;\">\n",
       "      <th></th>\n",
       "      <th>Medidas</th>\n",
       "      <th>Clock SPI RAM</th>\n",
       "      <th>Workaround cache</th>\n",
       "      <th>CPU F</th>\n",
       "      <th>BLKS</th>\n",
       "      <th>FFT Prec</th>\n",
       "      <th>Compile Opt</th>\n",
       "      <th>T Total</th>\n",
       "      <th>T Caract</th>\n",
       "      <th>T NN</th>\n",
       "    </tr>\n",
       "  </thead>\n",
       "  <tbody>\n",
       "    <tr>\n",
       "      <th>0</th>\n",
       "      <td>3</td>\n",
       "      <td>40</td>\n",
       "      <td>memw</td>\n",
       "      <td>160</td>\n",
       "      <td>4</td>\n",
       "      <td>float</td>\n",
       "      <td>O2</td>\n",
       "      <td>9873</td>\n",
       "      <td>693</td>\n",
       "      <td>9180</td>\n",
       "    </tr>\n",
       "    <tr>\n",
       "      <th>1</th>\n",
       "      <td>3</td>\n",
       "      <td>40</td>\n",
       "      <td>memw</td>\n",
       "      <td>160</td>\n",
       "      <td>12</td>\n",
       "      <td>float</td>\n",
       "      <td>O2</td>\n",
       "      <td>8560</td>\n",
       "      <td>700</td>\n",
       "      <td>7860</td>\n",
       "    </tr>\n",
       "    <tr>\n",
       "      <th>2</th>\n",
       "      <td>3</td>\n",
       "      <td>40</td>\n",
       "      <td>memw</td>\n",
       "      <td>160</td>\n",
       "      <td>33</td>\n",
       "      <td>float</td>\n",
       "      <td>O2</td>\n",
       "      <td>8197</td>\n",
       "      <td>700</td>\n",
       "      <td>7497</td>\n",
       "    </tr>\n",
       "    <tr>\n",
       "      <th>6</th>\n",
       "      <td>3</td>\n",
       "      <td>40</td>\n",
       "      <td>memw</td>\n",
       "      <td>160</td>\n",
       "      <td>4</td>\n",
       "      <td>double</td>\n",
       "      <td>O2</td>\n",
       "      <td>11470</td>\n",
       "      <td>2290</td>\n",
       "      <td>9180</td>\n",
       "    </tr>\n",
       "    <tr>\n",
       "      <th>7</th>\n",
       "      <td>3</td>\n",
       "      <td>40</td>\n",
       "      <td>memw</td>\n",
       "      <td>160</td>\n",
       "      <td>12</td>\n",
       "      <td>double</td>\n",
       "      <td>O2</td>\n",
       "      <td>10130</td>\n",
       "      <td>2270</td>\n",
       "      <td>7860</td>\n",
       "    </tr>\n",
       "    <tr>\n",
       "      <th>8</th>\n",
       "      <td>3</td>\n",
       "      <td>40</td>\n",
       "      <td>memw</td>\n",
       "      <td>160</td>\n",
       "      <td>33</td>\n",
       "      <td>double</td>\n",
       "      <td>O2</td>\n",
       "      <td>9750</td>\n",
       "      <td>2270</td>\n",
       "      <td>7480</td>\n",
       "    </tr>\n",
       "  </tbody>\n",
       "</table>\n",
       "</div>"
      ],
      "text/plain": [
       "   Medidas  Clock SPI RAM Workaround cache  CPU F  BLKS FFT Prec Compile Opt   \n",
       "0        3             40             memw    160     4    float          O2  \\\n",
       "1        3             40             memw    160    12    float          O2   \n",
       "2        3             40             memw    160    33    float          O2   \n",
       "6        3             40             memw    160     4   double          O2   \n",
       "7        3             40             memw    160    12   double          O2   \n",
       "8        3             40             memw    160    33   double          O2   \n",
       "\n",
       "   T Total  T Caract  T NN  \n",
       "0     9873       693  9180  \n",
       "1     8560       700  7860  \n",
       "2     8197       700  7497  \n",
       "6    11470      2290  9180  \n",
       "7    10130      2270  7860  \n",
       "8     9750      2270  7480  "
      ]
     },
     "execution_count": 3,
     "metadata": {},
     "output_type": "execute_result"
    }
   ],
   "source": [
    "\n",
    "dados[dados[\"Compile Opt\"] == \"O2\"][dados[\"Clock SPI RAM\"]==40][dados[\"Workaround cache\"]==\"memw\"]"
   ]
  },
  {
   "cell_type": "code",
   "execution_count": 4,
   "id": "major-parking",
   "metadata": {
    "tags": []
   },
   "outputs": [],
   "source": [
    "a= dados.drop([\"Medidas\", \"BLKS\", \"T Total\", \"T NN\"],axis=\"columns\")\n",
    "a = a.groupby(['Clock SPI RAM', \"Workaround cache\", \"CPU F\", \"FFT Prec\", \"Compile Opt\"]).mean().reset_index()"
   ]
  },
  {
   "cell_type": "code",
   "execution_count": 5,
   "id": "loose-protection",
   "metadata": {
    "tags": []
   },
   "outputs": [
    {
     "data": {
      "text/html": [
       "<div>\n",
       "<style scoped>\n",
       "    .dataframe tbody tr th:only-of-type {\n",
       "        vertical-align: middle;\n",
       "    }\n",
       "\n",
       "    .dataframe tbody tr th {\n",
       "        vertical-align: top;\n",
       "    }\n",
       "\n",
       "    .dataframe thead th {\n",
       "        text-align: right;\n",
       "    }\n",
       "</style>\n",
       "<table border=\"1\" class=\"dataframe\">\n",
       "  <thead>\n",
       "    <tr style=\"text-align: right;\">\n",
       "      <th></th>\n",
       "      <th>Clock SPI RAM</th>\n",
       "      <th>Workaround cache</th>\n",
       "      <th>CPU F</th>\n",
       "      <th>FFT Prec</th>\n",
       "      <th>Compile Opt</th>\n",
       "      <th>T Caract</th>\n",
       "    </tr>\n",
       "  </thead>\n",
       "  <tbody>\n",
       "    <tr>\n",
       "      <th>0</th>\n",
       "      <td>40</td>\n",
       "      <td>memw</td>\n",
       "      <td>160</td>\n",
       "      <td>double</td>\n",
       "      <td>O2</td>\n",
       "      <td>2276.666667</td>\n",
       "    </tr>\n",
       "    <tr>\n",
       "      <th>1</th>\n",
       "      <td>40</td>\n",
       "      <td>memw</td>\n",
       "      <td>160</td>\n",
       "      <td>double</td>\n",
       "      <td>Os</td>\n",
       "      <td>2346.666667</td>\n",
       "    </tr>\n",
       "    <tr>\n",
       "      <th>2</th>\n",
       "      <td>40</td>\n",
       "      <td>memw</td>\n",
       "      <td>160</td>\n",
       "      <td>float</td>\n",
       "      <td>O2</td>\n",
       "      <td>697.666667</td>\n",
       "    </tr>\n",
       "    <tr>\n",
       "      <th>3</th>\n",
       "      <td>40</td>\n",
       "      <td>memw</td>\n",
       "      <td>160</td>\n",
       "      <td>float</td>\n",
       "      <td>Os</td>\n",
       "      <td>712.000000</td>\n",
       "    </tr>\n",
       "    <tr>\n",
       "      <th>4</th>\n",
       "      <td>40</td>\n",
       "      <td>no</td>\n",
       "      <td>240</td>\n",
       "      <td>double</td>\n",
       "      <td>O2</td>\n",
       "      <td>2239.000000</td>\n",
       "    </tr>\n",
       "    <tr>\n",
       "      <th>5</th>\n",
       "      <td>40</td>\n",
       "      <td>no</td>\n",
       "      <td>240</td>\n",
       "      <td>double</td>\n",
       "      <td>Os</td>\n",
       "      <td>2260.000000</td>\n",
       "    </tr>\n",
       "    <tr>\n",
       "      <th>6</th>\n",
       "      <td>40</td>\n",
       "      <td>no</td>\n",
       "      <td>240</td>\n",
       "      <td>float</td>\n",
       "      <td>O2</td>\n",
       "      <td>680.000000</td>\n",
       "    </tr>\n",
       "    <tr>\n",
       "      <th>7</th>\n",
       "      <td>40</td>\n",
       "      <td>no</td>\n",
       "      <td>240</td>\n",
       "      <td>float</td>\n",
       "      <td>Os</td>\n",
       "      <td>710.000000</td>\n",
       "    </tr>\n",
       "    <tr>\n",
       "      <th>8</th>\n",
       "      <td>80</td>\n",
       "      <td>no</td>\n",
       "      <td>240</td>\n",
       "      <td>double</td>\n",
       "      <td>O2</td>\n",
       "      <td>1950.000000</td>\n",
       "    </tr>\n",
       "    <tr>\n",
       "      <th>9</th>\n",
       "      <td>80</td>\n",
       "      <td>no</td>\n",
       "      <td>240</td>\n",
       "      <td>double</td>\n",
       "      <td>Os</td>\n",
       "      <td>1980.000000</td>\n",
       "    </tr>\n",
       "    <tr>\n",
       "      <th>10</th>\n",
       "      <td>80</td>\n",
       "      <td>no</td>\n",
       "      <td>240</td>\n",
       "      <td>float</td>\n",
       "      <td>O2</td>\n",
       "      <td>460.000000</td>\n",
       "    </tr>\n",
       "    <tr>\n",
       "      <th>11</th>\n",
       "      <td>80</td>\n",
       "      <td>no</td>\n",
       "      <td>240</td>\n",
       "      <td>float</td>\n",
       "      <td>Os</td>\n",
       "      <td>490.000000</td>\n",
       "    </tr>\n",
       "  </tbody>\n",
       "</table>\n",
       "</div>"
      ],
      "text/plain": [
       "    Clock SPI RAM Workaround cache  CPU F FFT Prec Compile Opt     T Caract\n",
       "0              40             memw    160   double          O2  2276.666667\n",
       "1              40             memw    160   double          Os  2346.666667\n",
       "2              40             memw    160    float          O2   697.666667\n",
       "3              40             memw    160    float          Os   712.000000\n",
       "4              40               no    240   double          O2  2239.000000\n",
       "5              40               no    240   double          Os  2260.000000\n",
       "6              40               no    240    float          O2   680.000000\n",
       "7              40               no    240    float          Os   710.000000\n",
       "8              80               no    240   double          O2  1950.000000\n",
       "9              80               no    240   double          Os  1980.000000\n",
       "10             80               no    240    float          O2   460.000000\n",
       "11             80               no    240    float          Os   490.000000"
      ]
     },
     "execution_count": 5,
     "metadata": {},
     "output_type": "execute_result"
    }
   ],
   "source": [
    "a"
   ]
  },
  {
   "cell_type": "code",
   "execution_count": 6,
   "id": "understood-russian",
   "metadata": {
    "tags": []
   },
   "outputs": [
    {
     "name": "stderr",
     "output_type": "stream",
     "text": [
      "C:\\Users\\lucas\\AppData\\Local\\Temp\\ipykernel_17040\\3494735206.py:1: UserWarning: Boolean Series key will be reindexed to match DataFrame index.\n",
      "  class1 = a[a[\"Clock SPI RAM\"]==40][a[\"Workaround cache\"]==\"memw\"][a[\"CPU F\"]==160]\n",
      "C:\\Users\\lucas\\AppData\\Local\\Temp\\ipykernel_17040\\3494735206.py:1: UserWarning: Boolean Series key will be reindexed to match DataFrame index.\n",
      "  class1 = a[a[\"Clock SPI RAM\"]==40][a[\"Workaround cache\"]==\"memw\"][a[\"CPU F\"]==160]\n"
     ]
    },
    {
     "data": {
      "text/html": [
       "<div>\n",
       "<style scoped>\n",
       "    .dataframe tbody tr th:only-of-type {\n",
       "        vertical-align: middle;\n",
       "    }\n",
       "\n",
       "    .dataframe tbody tr th {\n",
       "        vertical-align: top;\n",
       "    }\n",
       "\n",
       "    .dataframe thead th {\n",
       "        text-align: right;\n",
       "    }\n",
       "</style>\n",
       "<table border=\"1\" class=\"dataframe\">\n",
       "  <thead>\n",
       "    <tr style=\"text-align: right;\">\n",
       "      <th></th>\n",
       "      <th>Clock SPI RAM</th>\n",
       "      <th>Workaround cache</th>\n",
       "      <th>CPU F</th>\n",
       "      <th>FFT Prec</th>\n",
       "      <th>Compile Opt</th>\n",
       "      <th>T Caract</th>\n",
       "    </tr>\n",
       "  </thead>\n",
       "  <tbody>\n",
       "    <tr>\n",
       "      <th>0</th>\n",
       "      <td>40</td>\n",
       "      <td>memw</td>\n",
       "      <td>160</td>\n",
       "      <td>double</td>\n",
       "      <td>O2</td>\n",
       "      <td>2276.666667</td>\n",
       "    </tr>\n",
       "    <tr>\n",
       "      <th>1</th>\n",
       "      <td>40</td>\n",
       "      <td>memw</td>\n",
       "      <td>160</td>\n",
       "      <td>double</td>\n",
       "      <td>Os</td>\n",
       "      <td>2346.666667</td>\n",
       "    </tr>\n",
       "    <tr>\n",
       "      <th>2</th>\n",
       "      <td>40</td>\n",
       "      <td>memw</td>\n",
       "      <td>160</td>\n",
       "      <td>float</td>\n",
       "      <td>O2</td>\n",
       "      <td>697.666667</td>\n",
       "    </tr>\n",
       "    <tr>\n",
       "      <th>3</th>\n",
       "      <td>40</td>\n",
       "      <td>memw</td>\n",
       "      <td>160</td>\n",
       "      <td>float</td>\n",
       "      <td>Os</td>\n",
       "      <td>712.000000</td>\n",
       "    </tr>\n",
       "  </tbody>\n",
       "</table>\n",
       "</div>"
      ],
      "text/plain": [
       "   Clock SPI RAM Workaround cache  CPU F FFT Prec Compile Opt     T Caract\n",
       "0             40             memw    160   double          O2  2276.666667\n",
       "1             40             memw    160   double          Os  2346.666667\n",
       "2             40             memw    160    float          O2   697.666667\n",
       "3             40             memw    160    float          Os   712.000000"
      ]
     },
     "execution_count": 6,
     "metadata": {},
     "output_type": "execute_result"
    }
   ],
   "source": [
    "class1 = a[a[\"Clock SPI RAM\"]==40][a[\"Workaround cache\"]==\"memw\"][a[\"CPU F\"]==160]\n",
    "class1"
   ]
  },
  {
   "cell_type": "code",
   "execution_count": 7,
   "id": "built-agreement",
   "metadata": {
    "tags": []
   },
   "outputs": [
    {
     "ename": "ValueError",
     "evalue": "cannot insert level_0, already exists",
     "output_type": "error",
     "traceback": [
      "\u001b[1;31m---------------------------------------------------------------------------\u001b[0m",
      "\u001b[1;31mValueError\u001b[0m                                Traceback (most recent call last)",
      "Cell \u001b[1;32mIn[7], line 9\u001b[0m\n\u001b[0;32m      7\u001b[0m c \u001b[38;5;241m=\u001b[39m b[b[\u001b[38;5;124m\"\u001b[39m\u001b[38;5;124mWorkaround cache\u001b[39m\u001b[38;5;124m\"\u001b[39m]\u001b[38;5;241m==\u001b[39mworkaround]\u001b[38;5;241m.\u001b[39mreset_index()\n\u001b[0;32m      8\u001b[0m \u001b[38;5;28;01mfor\u001b[39;00m freq \u001b[38;5;129;01min\u001b[39;00m c[\u001b[38;5;124m\"\u001b[39m\u001b[38;5;124mCPU F\u001b[39m\u001b[38;5;124m\"\u001b[39m]:\n\u001b[1;32m----> 9\u001b[0m     d \u001b[38;5;241m=\u001b[39m \u001b[43mc\u001b[49m\u001b[43m[\u001b[49m\u001b[43mc\u001b[49m\u001b[43m[\u001b[49m\u001b[38;5;124;43m\"\u001b[39;49m\u001b[38;5;124;43mCPU F\u001b[39;49m\u001b[38;5;124;43m\"\u001b[39;49m\u001b[43m]\u001b[49m\u001b[38;5;241;43m==\u001b[39;49m\u001b[43mfreq\u001b[49m\u001b[43m]\u001b[49m\u001b[38;5;241;43m.\u001b[39;49m\u001b[43mreset_index\u001b[49m\u001b[43m(\u001b[49m\u001b[43m)\u001b[49m\n\u001b[0;32m     10\u001b[0m     \u001b[38;5;28;01mfor\u001b[39;00m optim \u001b[38;5;129;01min\u001b[39;00m d[\u001b[38;5;124m\"\u001b[39m\u001b[38;5;124mCompile Opt\u001b[39m\u001b[38;5;124m\"\u001b[39m]:\n\u001b[0;32m     11\u001b[0m         e \u001b[38;5;241m=\u001b[39m d[d[\u001b[38;5;124m\"\u001b[39m\u001b[38;5;124mCompile Opt\u001b[39m\u001b[38;5;124m\"\u001b[39m]\u001b[38;5;241m==\u001b[39moptim]\u001b[38;5;241m.\u001b[39mreset_index()\n",
      "File \u001b[1;32m~\\AppData\\Local\\Programs\\Python\\Python39\\lib\\site-packages\\pandas\\core\\frame.py:6217\u001b[0m, in \u001b[0;36mDataFrame.reset_index\u001b[1;34m(self, level, drop, inplace, col_level, col_fill, allow_duplicates, names)\u001b[0m\n\u001b[0;32m   6211\u001b[0m         \u001b[38;5;28;01mif\u001b[39;00m lab \u001b[38;5;129;01mis\u001b[39;00m \u001b[38;5;129;01mnot\u001b[39;00m \u001b[38;5;28;01mNone\u001b[39;00m:\n\u001b[0;32m   6212\u001b[0m             \u001b[38;5;66;03m# if we have the codes, extract the values with a mask\u001b[39;00m\n\u001b[0;32m   6213\u001b[0m             level_values \u001b[38;5;241m=\u001b[39m algorithms\u001b[38;5;241m.\u001b[39mtake(\n\u001b[0;32m   6214\u001b[0m                 level_values, lab, allow_fill\u001b[38;5;241m=\u001b[39m\u001b[38;5;28;01mTrue\u001b[39;00m, fill_value\u001b[38;5;241m=\u001b[39mlev\u001b[38;5;241m.\u001b[39m_na_value\n\u001b[0;32m   6215\u001b[0m             )\n\u001b[1;32m-> 6217\u001b[0m         \u001b[43mnew_obj\u001b[49m\u001b[38;5;241;43m.\u001b[39;49m\u001b[43minsert\u001b[49m\u001b[43m(\u001b[49m\n\u001b[0;32m   6218\u001b[0m \u001b[43m            \u001b[49m\u001b[38;5;241;43m0\u001b[39;49m\u001b[43m,\u001b[49m\n\u001b[0;32m   6219\u001b[0m \u001b[43m            \u001b[49m\u001b[43mname\u001b[49m\u001b[43m,\u001b[49m\n\u001b[0;32m   6220\u001b[0m \u001b[43m            \u001b[49m\u001b[43mlevel_values\u001b[49m\u001b[43m,\u001b[49m\n\u001b[0;32m   6221\u001b[0m \u001b[43m            \u001b[49m\u001b[43mallow_duplicates\u001b[49m\u001b[38;5;241;43m=\u001b[39;49m\u001b[43mallow_duplicates\u001b[49m\u001b[43m,\u001b[49m\n\u001b[0;32m   6222\u001b[0m \u001b[43m        \u001b[49m\u001b[43m)\u001b[49m\n\u001b[0;32m   6224\u001b[0m new_obj\u001b[38;5;241m.\u001b[39mindex \u001b[38;5;241m=\u001b[39m new_index\n\u001b[0;32m   6225\u001b[0m \u001b[38;5;28;01mif\u001b[39;00m \u001b[38;5;129;01mnot\u001b[39;00m inplace:\n",
      "File \u001b[1;32m~\\AppData\\Local\\Programs\\Python\\Python39\\lib\\site-packages\\pandas\\core\\frame.py:4780\u001b[0m, in \u001b[0;36mDataFrame.insert\u001b[1;34m(self, loc, column, value, allow_duplicates)\u001b[0m\n\u001b[0;32m   4774\u001b[0m     \u001b[38;5;28;01mraise\u001b[39;00m \u001b[38;5;167;01mValueError\u001b[39;00m(\n\u001b[0;32m   4775\u001b[0m         \u001b[38;5;124m\"\u001b[39m\u001b[38;5;124mCannot specify \u001b[39m\u001b[38;5;124m'\u001b[39m\u001b[38;5;124mallow_duplicates=True\u001b[39m\u001b[38;5;124m'\u001b[39m\u001b[38;5;124m when \u001b[39m\u001b[38;5;124m\"\u001b[39m\n\u001b[0;32m   4776\u001b[0m         \u001b[38;5;124m\"\u001b[39m\u001b[38;5;124m'\u001b[39m\u001b[38;5;124mself.flags.allows_duplicate_labels\u001b[39m\u001b[38;5;124m'\u001b[39m\u001b[38;5;124m is False.\u001b[39m\u001b[38;5;124m\"\u001b[39m\n\u001b[0;32m   4777\u001b[0m     )\n\u001b[0;32m   4778\u001b[0m \u001b[38;5;28;01mif\u001b[39;00m \u001b[38;5;129;01mnot\u001b[39;00m allow_duplicates \u001b[38;5;129;01mand\u001b[39;00m column \u001b[38;5;129;01min\u001b[39;00m \u001b[38;5;28mself\u001b[39m\u001b[38;5;241m.\u001b[39mcolumns:\n\u001b[0;32m   4779\u001b[0m     \u001b[38;5;66;03m# Should this be a different kind of error??\u001b[39;00m\n\u001b[1;32m-> 4780\u001b[0m     \u001b[38;5;28;01mraise\u001b[39;00m \u001b[38;5;167;01mValueError\u001b[39;00m(\u001b[38;5;124mf\u001b[39m\u001b[38;5;124m\"\u001b[39m\u001b[38;5;124mcannot insert \u001b[39m\u001b[38;5;132;01m{\u001b[39;00mcolumn\u001b[38;5;132;01m}\u001b[39;00m\u001b[38;5;124m, already exists\u001b[39m\u001b[38;5;124m\"\u001b[39m)\n\u001b[0;32m   4781\u001b[0m \u001b[38;5;28;01mif\u001b[39;00m \u001b[38;5;129;01mnot\u001b[39;00m \u001b[38;5;28misinstance\u001b[39m(loc, \u001b[38;5;28mint\u001b[39m):\n\u001b[0;32m   4782\u001b[0m     \u001b[38;5;28;01mraise\u001b[39;00m \u001b[38;5;167;01mTypeError\u001b[39;00m(\u001b[38;5;124m\"\u001b[39m\u001b[38;5;124mloc must be int\u001b[39m\u001b[38;5;124m\"\u001b[39m)\n",
      "\u001b[1;31mValueError\u001b[0m: cannot insert level_0, already exists"
     ]
    }
   ],
   "source": [
    "class_lst = []\n",
    "float_lst = []\n",
    "double_lst = []\n",
    "for spiclock in a[\"Clock SPI RAM\"]:\n",
    "    b = a[a[\"Clock SPI RAM\"] == spiclock].reset_index()\n",
    "    for workaround in b[\"Workaround cache\"]:\n",
    "        c = b[b[\"Workaround cache\"]==workaround].reset_index()\n",
    "        for freq in c[\"CPU F\"]:\n",
    "            d = c[c[\"CPU F\"]==freq].reset_index()\n",
    "            for optim in d[\"Compile Opt\"]:\n",
    "                e = d[d[\"Compile Opt\"]==optim].reset_index()\n",
    "                print(e)\n",
    "                _class = str(spiclock)+'-'+str(workaround)+'-'+str(freq)+'-'+str(optim)\n",
    "                _double = d[d[\"FFT Prec\"]==\"double\"][\"T Caract\"].mean()\n",
    "                _float  = d[d[\"FFT Prec\"]==\"float\"][\"T Caract\"].mean()\n",
    "                class_lst.append(_class)\n",
    "                float_lst.append(_float)\n",
    "                double_lst.append(_double)"
   ]
  },
  {
   "cell_type": "code",
   "execution_count": null,
   "id": "cognitive-receiver",
   "metadata": {
    "tags": []
   },
   "outputs": [],
   "source": [
    "class_lst = []\n",
    "float_lst = []\n",
    "double_lst = []\n",
    "\n",
    "dic_float = {}\n",
    "dic_double = {}\n",
    "for i, row in a.iterrows():\n",
    "    _class = str(row[\"Clock SPI RAM\"])+'-'+str(row[\"Workaround cache\"])+'-'+str(row[\"CPU F\"])+'-'+str(row[\"Compile Opt\"])\n",
    "    if (row[\"FFT Prec\"]==\"float\"):\n",
    "        dic_float[_class] = row[\"T Caract\"]\n",
    "    else:\n",
    "        dic_double[_class] = row[\"T Caract\"]\n",
    "    "
   ]
  },
  {
   "cell_type": "code",
   "execution_count": null,
   "id": "substantial-knowing",
   "metadata": {
    "tags": []
   },
   "outputs": [],
   "source": [
    "dic_float"
   ]
  },
  {
   "cell_type": "code",
   "execution_count": null,
   "id": "reflected-resistance",
   "metadata": {
    "tags": []
   },
   "outputs": [],
   "source": [
    "np.asarray(list(dic_float.keys()))\n",
    "f_values = np.asarray(list(dic_float.values()))\n",
    "f_values"
   ]
  },
  {
   "cell_type": "code",
   "execution_count": 8,
   "id": "dimensional-approach",
   "metadata": {
    "tags": []
   },
   "outputs": [
    {
     "ename": "NameError",
     "evalue": "name 'dic_double' is not defined",
     "output_type": "error",
     "traceback": [
      "\u001b[1;31m---------------------------------------------------------------------------\u001b[0m",
      "\u001b[1;31mNameError\u001b[0m                                 Traceback (most recent call last)",
      "Cell \u001b[1;32mIn[8], line 1\u001b[0m\n\u001b[1;32m----> 1\u001b[0m \u001b[43mdic_double\u001b[49m\n",
      "\u001b[1;31mNameError\u001b[0m: name 'dic_double' is not defined"
     ]
    }
   ],
   "source": [
    "dic_double"
   ]
  },
  {
   "cell_type": "code",
   "execution_count": 9,
   "id": "white-chase",
   "metadata": {
    "tags": []
   },
   "outputs": [
    {
     "ename": "NameError",
     "evalue": "name 'plt' is not defined",
     "output_type": "error",
     "traceback": [
      "\u001b[1;31m---------------------------------------------------------------------------\u001b[0m",
      "\u001b[1;31mNameError\u001b[0m                                 Traceback (most recent call last)",
      "Cell \u001b[1;32mIn[9], line 1\u001b[0m\n\u001b[1;32m----> 1\u001b[0m fig, ax \u001b[38;5;241m=\u001b[39m \u001b[43mplt\u001b[49m\u001b[38;5;241m.\u001b[39msubplots()\n\u001b[0;32m      2\u001b[0m ax\u001b[38;5;241m.\u001b[39mbar(\u001b[38;5;28mlist\u001b[39m(dic_float\u001b[38;5;241m.\u001b[39mkeys()),\u001b[38;5;28mlist\u001b[39m(dic_float\u001b[38;5;241m.\u001b[39mvalues()))\n\u001b[0;32m      3\u001b[0m fig\u001b[38;5;241m.\u001b[39mxticks(rotation \u001b[38;5;241m=\u001b[39m \u001b[38;5;241m90\u001b[39m)\n",
      "\u001b[1;31mNameError\u001b[0m: name 'plt' is not defined"
     ]
    }
   ],
   "source": [
    "fig, ax = plt.subplots()\n",
    "ax.bar(list(dic_float.keys()),list(dic_float.values()))\n",
    "fig.xticks(rotation = 90)\n",
    "ax.set_ylabel('Tempo (ms)')\n"
   ]
  },
  {
   "cell_type": "code",
   "execution_count": 10,
   "id": "painted-vehicle",
   "metadata": {
    "tags": []
   },
   "outputs": [
    {
     "ename": "AttributeError",
     "evalue": "'Axes' object has no attribute 'set_xtickslabels'",
     "output_type": "error",
     "traceback": [
      "\u001b[1;31m---------------------------------------------------------------------------\u001b[0m",
      "\u001b[1;31mAttributeError\u001b[0m                            Traceback (most recent call last)",
      "Cell \u001b[1;32mIn[10], line 28\u001b[0m\n\u001b[0;32m     26\u001b[0m ax\u001b[38;5;241m.\u001b[39mset_title(\u001b[38;5;124m'\u001b[39m\u001b[38;5;124mPenguin attributes by species\u001b[39m\u001b[38;5;124m'\u001b[39m)\n\u001b[0;32m     27\u001b[0m ax\u001b[38;5;241m.\u001b[39mset_xticks(x \u001b[38;5;241m+\u001b[39m width)\n\u001b[1;32m---> 28\u001b[0m \u001b[43max\u001b[49m\u001b[38;5;241;43m.\u001b[39;49m\u001b[43mset_xtickslabels\u001b[49m(species)\n\u001b[0;32m     29\u001b[0m ax\u001b[38;5;241m.\u001b[39mlegend(loc\u001b[38;5;241m=\u001b[39m\u001b[38;5;124m'\u001b[39m\u001b[38;5;124mupper left\u001b[39m\u001b[38;5;124m'\u001b[39m)\n\u001b[0;32m     30\u001b[0m ax\u001b[38;5;241m.\u001b[39mset_ylim(\u001b[38;5;241m0\u001b[39m, \u001b[38;5;241m3000\u001b[39m)\n",
      "\u001b[1;31mAttributeError\u001b[0m: 'Axes' object has no attribute 'set_xtickslabels'"
     ]
    },
    {
     "data": {
      "image/png": "[encoded data removed]",
      "text/plain": [
       "<Figure size 640x480 with 1 Axes>"
      ]
     },
     "metadata": {},
     "output_type": "display_data"
    }
   ],
   "source": [
    "import matplotlib.pyplot as plt\n",
    "import numpy as np\n",
    "\n",
    "species = (\"float\", \"double\")\n",
    "penguin_means = {'40-memw-160-O2': (697.6666666666666,2276.6666666666665),\n",
    " '40-memw-160-Os': (712.0, 2346.6666666666665),\n",
    " '40-no-240-O2': (680.0, 2239.0),\n",
    " '40-no-240-Os': (710.0, 2260.0),\n",
    " '80-no-240-O2': (460.0, 1950.0),\n",
    " '80-no-240-Os': (490.0, 1980.0)}\n",
    "\n",
    "x = np.arange(len(species))  # the label locations\n",
    "width = 0.1  # the width of the bars\n",
    "multiplier = 0\n",
    "\n",
    "fig, ax = plt.subplots()\n",
    "\n",
    "for attribute, measurement in penguin_means.items():\n",
    "    offset = width * multiplier\n",
    "    rects = ax.bar(x + offset, measurement, width, label=attribute)\n",
    "    #ax.bar_label(rects, padding=5)\n",
    "    multiplier += 1\n",
    "\n",
    "# Add some text for labels, title and custom x-axis tick labels, etc.\n",
    "ax.set_ylabel('Length (mm)')\n",
    "ax.set_title('Penguin attributes by species')\n",
    "ax.set_xticks(x + width)\n",
    "ax.set_xtickslabels(species)\n",
    "ax.legend(loc='upper left')\n",
    "ax.set_ylim(0, 3000)\n",
    "\n",
    "plt.show()"
   ]
  },
  {
   "cell_type": "code",
   "execution_count": 11,
   "id": "inner-power",
   "metadata": {
    "tags": []
   },
   "outputs": [
    {
     "ename": "ModuleNotFoundError",
     "evalue": "No module named 'plotly'",
     "output_type": "error",
     "traceback": [
      "\u001b[1;31m---------------------------------------------------------------------------\u001b[0m",
      "\u001b[1;31mModuleNotFoundError\u001b[0m                       Traceback (most recent call last)",
      "Cell \u001b[1;32mIn[11], line 1\u001b[0m\n\u001b[1;32m----> 1\u001b[0m \u001b[38;5;28;01mimport\u001b[39;00m \u001b[38;5;21;01mplotly\u001b[39;00m\u001b[38;5;21;01m.\u001b[39;00m\u001b[38;5;21;01mexpress\u001b[39;00m \u001b[38;5;28;01mas\u001b[39;00m \u001b[38;5;21;01mpx\u001b[39;00m\n\u001b[0;32m      3\u001b[0m dic_float \u001b[38;5;241m=\u001b[39m {   \u001b[38;5;124m'\u001b[39m\u001b[38;5;124m40-memw-160-O2\u001b[39m\u001b[38;5;124m'\u001b[39m: \u001b[38;5;241m2276.6666666666665\u001b[39m,\n\u001b[0;32m      4\u001b[0m                 \u001b[38;5;124m'\u001b[39m\u001b[38;5;124m40-memw-160-Os\u001b[39m\u001b[38;5;124m'\u001b[39m: \u001b[38;5;241m2346.6666666666665\u001b[39m,\n\u001b[0;32m      5\u001b[0m                 \u001b[38;5;124m'\u001b[39m\u001b[38;5;124m40-no-240-O2\u001b[39m\u001b[38;5;124m'\u001b[39m: \u001b[38;5;241m2239.0\u001b[39m,\n\u001b[1;32m   (...)\u001b[0m\n\u001b[0;32m      8\u001b[0m                 \u001b[38;5;124m'\u001b[39m\u001b[38;5;124m80-no-240-Os\u001b[39m\u001b[38;5;124m'\u001b[39m: \u001b[38;5;241m1980.0\u001b[39m\n\u001b[0;32m      9\u001b[0m             }\n\u001b[0;32m     11\u001b[0m df \u001b[38;5;241m=\u001b[39m pd\u001b[38;5;241m.\u001b[39mDataFrame\u001b[38;5;241m.\u001b[39mfrom_dict(dic_float,orient\u001b[38;5;241m=\u001b[39m\u001b[38;5;124m'\u001b[39m\u001b[38;5;124mindex\u001b[39m\u001b[38;5;124m'\u001b[39m)\n",
      "\u001b[1;31mModuleNotFoundError\u001b[0m: No module named 'plotly'"
     ]
    }
   ],
   "source": [
    "import plotly.express as px\n",
    "\n",
    "dic_float = {   '40-memw-160-O2': 2276.6666666666665,\n",
    "                '40-memw-160-Os': 2346.6666666666665,\n",
    "                '40-no-240-O2': 2239.0,\n",
    "                '40-no-240-Os': 2260.0,\n",
    "                '80-no-240-O2': 1950.0,\n",
    "                '80-no-240-Os': 1980.0\n",
    "            }\n",
    "\n",
    "df = pd.DataFrame.from_dict(dic_float,orient='index')\n",
    "\n",
    "fig = px.bar(df, y=0,\n",
    "             labels={'index':'Precisão FFT', '0':'Média de Tempo'},\n",
    "             barmode='group',\n",
    "             color=df.index,\n",
    "             text_auto=True,\n",
    "             height=400)\n",
    "fig.show()"
   ]
  },
  {
   "cell_type": "code",
   "execution_count": 12,
   "id": "valued-notification",
   "metadata": {
    "tags": []
   },
   "outputs": [
    {
     "ename": "NameError",
     "evalue": "name 'y' is not defined",
     "output_type": "error",
     "traceback": [
      "\u001b[1;31m---------------------------------------------------------------------------\u001b[0m",
      "\u001b[1;31mNameError\u001b[0m                                 Traceback (most recent call last)",
      "Cell \u001b[1;32mIn[12], line 1\u001b[0m\n\u001b[1;32m----> 1\u001b[0m \u001b[43my\u001b[49m\n",
      "\u001b[1;31mNameError\u001b[0m: name 'y' is not defined"
     ]
    }
   ],
   "source": [
    "y"
   ]
  },
  {
   "cell_type": "code",
   "execution_count": 13,
   "id": "affecting-distance",
   "metadata": {
    "tags": []
   },
   "outputs": [
    {
     "name": "stderr",
     "output_type": "stream",
     "text": [
      "C:\\Users\\lucas\\AppData\\Local\\Temp\\ipykernel_17040\\4094121389.py:1: UserWarning: Boolean Series key will be reindexed to match DataFrame index.\n",
      "  b = dados[dados[\"Compile Opt\"] == \"O2\"][dados[\"FFT Prec\"]==\"double\"].drop([\"Medidas\", \"BLKS\", \"T Total\", \"T NN\"],axis=\"columns\")\n"
     ]
    }
   ],
   "source": [
    "b = dados[dados[\"Compile Opt\"] == \"O2\"][dados[\"FFT Prec\"]==\"double\"].drop([\"Medidas\", \"BLKS\", \"T Total\", \"T NN\"],axis=\"columns\")"
   ]
  },
  {
   "cell_type": "code",
   "execution_count": 14,
   "id": "automotive-bottle",
   "metadata": {
    "tags": []
   },
   "outputs": [
    {
     "name": "stderr",
     "output_type": "stream",
     "text": [
      "C:\\Users\\lucas\\AppData\\Local\\Temp\\ipykernel_17040\\2095729601.py:1: UserWarning: Boolean Series key will be reindexed to match DataFrame index.\n",
      "  b = dados[dados[\"Compile Opt\"] == \"O2\"][dados[\"FFT Prec\"]==\"double\"].drop([\"Medidas\", \"BLKS\", \"T Total\", \"T NN\"],axis=\"columns\")\n"
     ]
    },
    {
     "data": {
      "text/html": [
       "<div>\n",
       "<style scoped>\n",
       "    .dataframe tbody tr th:only-of-type {\n",
       "        vertical-align: middle;\n",
       "    }\n",
       "\n",
       "    .dataframe tbody tr th {\n",
       "        vertical-align: top;\n",
       "    }\n",
       "\n",
       "    .dataframe thead th {\n",
       "        text-align: right;\n",
       "    }\n",
       "</style>\n",
       "<table border=\"1\" class=\"dataframe\">\n",
       "  <thead>\n",
       "    <tr style=\"text-align: right;\">\n",
       "      <th></th>\n",
       "      <th></th>\n",
       "      <th></th>\n",
       "      <th></th>\n",
       "      <th></th>\n",
       "      <th>T Caract</th>\n",
       "    </tr>\n",
       "    <tr>\n",
       "      <th>Clock SPI RAM</th>\n",
       "      <th>Workaround cache</th>\n",
       "      <th>CPU F</th>\n",
       "      <th>FFT Prec</th>\n",
       "      <th>Compile Opt</th>\n",
       "      <th></th>\n",
       "    </tr>\n",
       "  </thead>\n",
       "  <tbody>\n",
       "    <tr>\n",
       "      <th rowspan=\"2\" valign=\"top\">40</th>\n",
       "      <th>memw</th>\n",
       "      <th>160</th>\n",
       "      <th>double</th>\n",
       "      <th>O2</th>\n",
       "      <td>2276.666667</td>\n",
       "    </tr>\n",
       "    <tr>\n",
       "      <th>no</th>\n",
       "      <th>240</th>\n",
       "      <th>double</th>\n",
       "      <th>O2</th>\n",
       "      <td>2239.000000</td>\n",
       "    </tr>\n",
       "    <tr>\n",
       "      <th>80</th>\n",
       "      <th>no</th>\n",
       "      <th>240</th>\n",
       "      <th>double</th>\n",
       "      <th>O2</th>\n",
       "      <td>1950.000000</td>\n",
       "    </tr>\n",
       "  </tbody>\n",
       "</table>\n",
       "</div>"
      ],
      "text/plain": [
       "                                                              T Caract\n",
       "Clock SPI RAM Workaround cache CPU F FFT Prec Compile Opt             \n",
       "40            memw             160   double   O2           2276.666667\n",
       "              no               240   double   O2           2239.000000\n",
       "80            no               240   double   O2           1950.000000"
      ]
     },
     "execution_count": 14,
     "metadata": {},
     "output_type": "execute_result"
    }
   ],
   "source": [
    "b = dados[dados[\"Compile Opt\"] == \"O2\"][dados[\"FFT Prec\"]==\"double\"].drop([\"Medidas\", \"BLKS\", \"T Total\", \"T NN\"],axis=\"columns\")\n",
    "b.groupby(['Clock SPI RAM', \"Workaround cache\", \"CPU F\", \"FFT Prec\", \"Compile Opt\"]).mean()"
   ]
  },
  {
   "cell_type": "code",
   "execution_count": 15,
   "id": "parallel-thailand",
   "metadata": {
    "tags": []
   },
   "outputs": [
    {
     "data": {
      "text/html": [
       "<div>\n",
       "<style scoped>\n",
       "    .dataframe tbody tr th:only-of-type {\n",
       "        vertical-align: middle;\n",
       "    }\n",
       "\n",
       "    .dataframe tbody tr th {\n",
       "        vertical-align: top;\n",
       "    }\n",
       "\n",
       "    .dataframe thead th {\n",
       "        text-align: right;\n",
       "    }\n",
       "</style>\n",
       "<table border=\"1\" class=\"dataframe\">\n",
       "  <thead>\n",
       "    <tr style=\"text-align: right;\">\n",
       "      <th></th>\n",
       "      <th></th>\n",
       "      <th></th>\n",
       "      <th></th>\n",
       "      <th></th>\n",
       "      <th>T Caract</th>\n",
       "    </tr>\n",
       "    <tr>\n",
       "      <th>Clock SPI RAM</th>\n",
       "      <th>Workaround cache</th>\n",
       "      <th>CPU F</th>\n",
       "      <th>FFT Prec</th>\n",
       "      <th>Compile Opt</th>\n",
       "      <th></th>\n",
       "    </tr>\n",
       "  </thead>\n",
       "  <tbody>\n",
       "    <tr>\n",
       "      <th rowspan=\"4\" valign=\"top\">40</th>\n",
       "      <th rowspan=\"2\" valign=\"top\">memw</th>\n",
       "      <th rowspan=\"2\" valign=\"top\">160</th>\n",
       "      <th>double</th>\n",
       "      <th>O2</th>\n",
       "      <td>2276.666667</td>\n",
       "    </tr>\n",
       "    <tr>\n",
       "      <th>float</th>\n",
       "      <th>O2</th>\n",
       "      <td>697.666667</td>\n",
       "    </tr>\n",
       "    <tr>\n",
       "      <th rowspan=\"2\" valign=\"top\">no</th>\n",
       "      <th rowspan=\"2\" valign=\"top\">240</th>\n",
       "      <th>double</th>\n",
       "      <th>O2</th>\n",
       "      <td>2239.000000</td>\n",
       "    </tr>\n",
       "    <tr>\n",
       "      <th>float</th>\n",
       "      <th>O2</th>\n",
       "      <td>680.000000</td>\n",
       "    </tr>\n",
       "    <tr>\n",
       "      <th rowspan=\"2\" valign=\"top\">80</th>\n",
       "      <th rowspan=\"2\" valign=\"top\">no</th>\n",
       "      <th rowspan=\"2\" valign=\"top\">240</th>\n",
       "      <th>double</th>\n",
       "      <th>O2</th>\n",
       "      <td>1950.000000</td>\n",
       "    </tr>\n",
       "    <tr>\n",
       "      <th>float</th>\n",
       "      <th>O2</th>\n",
       "      <td>460.000000</td>\n",
       "    </tr>\n",
       "  </tbody>\n",
       "</table>\n",
       "</div>"
      ],
      "text/plain": [
       "                                                              T Caract\n",
       "Clock SPI RAM Workaround cache CPU F FFT Prec Compile Opt             \n",
       "40            memw             160   double   O2           2276.666667\n",
       "                                     float    O2            697.666667\n",
       "              no               240   double   O2           2239.000000\n",
       "                                     float    O2            680.000000\n",
       "80            no               240   double   O2           1950.000000\n",
       "                                     float    O2            460.000000"
      ]
     },
     "execution_count": 15,
     "metadata": {},
     "output_type": "execute_result"
    }
   ],
   "source": [
    "c = dados[dados[\"Compile Opt\"] == \"O2\"].drop([\"Medidas\", \"BLKS\", \"T Total\", \"T NN\"],axis=\"columns\")\n",
    "c.groupby(['Clock SPI RAM', \"Workaround cache\", \"CPU F\", \"FFT Prec\", \"Compile Opt\"]).mean()"
   ]
  },
  {
   "cell_type": "code",
   "execution_count": 16,
   "id": "informed-spare",
   "metadata": {
    "tags": []
   },
   "outputs": [
    {
     "ename": "ValueError",
     "evalue": "shape mismatch: objects cannot be broadcast to a single shape.  Mismatch is between arg 0 with shape (9,) and arg 1 with shape (12,).",
     "output_type": "error",
     "traceback": [
      "\u001b[1;31m---------------------------------------------------------------------------\u001b[0m",
      "\u001b[1;31mValueError\u001b[0m                                Traceback (most recent call last)",
      "Cell \u001b[1;32mIn[16], line 6\u001b[0m\n\u001b[0;32m      4\u001b[0m opacity \u001b[38;5;241m=\u001b[39m \u001b[38;5;241m0.8\u001b[39m\n\u001b[0;32m      5\u001b[0m x\u001b[38;5;241m=\u001b[39mnp\u001b[38;5;241m.\u001b[39marray([\u001b[38;5;241m1\u001b[39m,\u001b[38;5;241m2\u001b[39m,\u001b[38;5;241m3\u001b[39m,\u001b[38;5;241m4\u001b[39m,\u001b[38;5;241m5\u001b[39m,\u001b[38;5;241m6\u001b[39m,\u001b[38;5;241m7\u001b[39m,\u001b[38;5;241m8\u001b[39m,\u001b[38;5;241m9\u001b[39m])\n\u001b[1;32m----> 6\u001b[0m rects1 \u001b[38;5;241m=\u001b[39m \u001b[43mplt\u001b[49m\u001b[38;5;241;43m.\u001b[39;49m\u001b[43mbar\u001b[49m\u001b[43m(\u001b[49m\u001b[43mx\u001b[49m\u001b[43m,\u001b[49m\u001b[43mnp\u001b[49m\u001b[38;5;241;43m.\u001b[39;49m\u001b[43masarray\u001b[49m\u001b[43m(\u001b[49m\u001b[43ma\u001b[49m\u001b[43m[\u001b[49m\u001b[38;5;124;43m\"\u001b[39;49m\u001b[38;5;124;43mT Caract\u001b[39;49m\u001b[38;5;124;43m\"\u001b[39;49m\u001b[43m]\u001b[49m\u001b[43m)\u001b[49m\u001b[43m,\u001b[49m\u001b[43m \u001b[49m\u001b[43mbar_width\u001b[49m\u001b[43m,\u001b[49m\n\u001b[0;32m      7\u001b[0m \u001b[43malpha\u001b[49m\u001b[38;5;241;43m=\u001b[39;49m\u001b[43mopacity\u001b[49m\u001b[43m,\u001b[49m\n\u001b[0;32m      8\u001b[0m \u001b[43mcolor\u001b[49m\u001b[38;5;241;43m=\u001b[39;49m\u001b[38;5;124;43m'\u001b[39;49m\u001b[38;5;124;43mb\u001b[39;49m\u001b[38;5;124;43m'\u001b[39;49m\u001b[43m,\u001b[49m\n\u001b[0;32m      9\u001b[0m \u001b[43mlabel\u001b[49m\u001b[38;5;241;43m=\u001b[39;49m\u001b[38;5;124;43m'\u001b[39;49m\u001b[38;5;124;43mFrank\u001b[39;49m\u001b[38;5;124;43m'\u001b[39;49m\u001b[43m)\u001b[49m\n\u001b[0;32m     11\u001b[0m rects2 \u001b[38;5;241m=\u001b[39m plt\u001b[38;5;241m.\u001b[39mbar(x\u001b[38;5;241m+\u001b[39mbar_width,np\u001b[38;5;241m.\u001b[39masarray(b[\u001b[38;5;124m\"\u001b[39m\u001b[38;5;124mT Caract\u001b[39m\u001b[38;5;124m\"\u001b[39m]), bar_width,\n\u001b[0;32m     12\u001b[0m alpha\u001b[38;5;241m=\u001b[39mopacity,\n\u001b[0;32m     13\u001b[0m color\u001b[38;5;241m=\u001b[39m\u001b[38;5;124m'\u001b[39m\u001b[38;5;124mg\u001b[39m\u001b[38;5;124m'\u001b[39m,\n\u001b[0;32m     14\u001b[0m label\u001b[38;5;241m=\u001b[39m\u001b[38;5;124m'\u001b[39m\u001b[38;5;124mGuido\u001b[39m\u001b[38;5;124m'\u001b[39m)\n\u001b[0;32m     16\u001b[0m plt\u001b[38;5;241m.\u001b[39mshow()\n",
      "File \u001b[1;32m~\\AppData\\Local\\Programs\\Python\\Python39\\lib\\site-packages\\matplotlib\\pyplot.py:2439\u001b[0m, in \u001b[0;36mbar\u001b[1;34m(x, height, width, bottom, align, data, **kwargs)\u001b[0m\n\u001b[0;32m   2435\u001b[0m \u001b[38;5;129m@_copy_docstring_and_deprecators\u001b[39m(Axes\u001b[38;5;241m.\u001b[39mbar)\n\u001b[0;32m   2436\u001b[0m \u001b[38;5;28;01mdef\u001b[39;00m \u001b[38;5;21mbar\u001b[39m(\n\u001b[0;32m   2437\u001b[0m         x, height, width\u001b[38;5;241m=\u001b[39m\u001b[38;5;241m0.8\u001b[39m, bottom\u001b[38;5;241m=\u001b[39m\u001b[38;5;28;01mNone\u001b[39;00m, \u001b[38;5;241m*\u001b[39m, align\u001b[38;5;241m=\u001b[39m\u001b[38;5;124m'\u001b[39m\u001b[38;5;124mcenter\u001b[39m\u001b[38;5;124m'\u001b[39m,\n\u001b[0;32m   2438\u001b[0m         data\u001b[38;5;241m=\u001b[39m\u001b[38;5;28;01mNone\u001b[39;00m, \u001b[38;5;241m*\u001b[39m\u001b[38;5;241m*\u001b[39mkwargs):\n\u001b[1;32m-> 2439\u001b[0m     \u001b[38;5;28;01mreturn\u001b[39;00m gca()\u001b[38;5;241m.\u001b[39mbar(\n\u001b[0;32m   2440\u001b[0m         x, height, width\u001b[38;5;241m=\u001b[39mwidth, bottom\u001b[38;5;241m=\u001b[39mbottom, align\u001b[38;5;241m=\u001b[39malign,\n\u001b[0;32m   2441\u001b[0m         \u001b[38;5;241m*\u001b[39m\u001b[38;5;241m*\u001b[39m({\u001b[38;5;124m\"\u001b[39m\u001b[38;5;124mdata\u001b[39m\u001b[38;5;124m\"\u001b[39m: data} \u001b[38;5;28;01mif\u001b[39;00m data \u001b[38;5;129;01mis\u001b[39;00m \u001b[38;5;129;01mnot\u001b[39;00m \u001b[38;5;28;01mNone\u001b[39;00m \u001b[38;5;28;01melse\u001b[39;00m {}), \u001b[38;5;241m*\u001b[39m\u001b[38;5;241m*\u001b[39mkwargs)\n",
      "File \u001b[1;32m~\\AppData\\Local\\Programs\\Python\\Python39\\lib\\site-packages\\matplotlib\\__init__.py:1472\u001b[0m, in \u001b[0;36m_preprocess_data.<locals>.inner\u001b[1;34m(ax, data, *args, **kwargs)\u001b[0m\n\u001b[0;32m   1469\u001b[0m \u001b[38;5;129m@functools\u001b[39m\u001b[38;5;241m.\u001b[39mwraps(func)\n\u001b[0;32m   1470\u001b[0m \u001b[38;5;28;01mdef\u001b[39;00m \u001b[38;5;21minner\u001b[39m(ax, \u001b[38;5;241m*\u001b[39margs, data\u001b[38;5;241m=\u001b[39m\u001b[38;5;28;01mNone\u001b[39;00m, \u001b[38;5;241m*\u001b[39m\u001b[38;5;241m*\u001b[39mkwargs):\n\u001b[0;32m   1471\u001b[0m     \u001b[38;5;28;01mif\u001b[39;00m data \u001b[38;5;129;01mis\u001b[39;00m \u001b[38;5;28;01mNone\u001b[39;00m:\n\u001b[1;32m-> 1472\u001b[0m         \u001b[38;5;28;01mreturn\u001b[39;00m func(ax, \u001b[38;5;241m*\u001b[39m\u001b[38;5;28mmap\u001b[39m(sanitize_sequence, args), \u001b[38;5;241m*\u001b[39m\u001b[38;5;241m*\u001b[39mkwargs)\n\u001b[0;32m   1474\u001b[0m     bound \u001b[38;5;241m=\u001b[39m new_sig\u001b[38;5;241m.\u001b[39mbind(ax, \u001b[38;5;241m*\u001b[39margs, \u001b[38;5;241m*\u001b[39m\u001b[38;5;241m*\u001b[39mkwargs)\n\u001b[0;32m   1475\u001b[0m     auto_label \u001b[38;5;241m=\u001b[39m (bound\u001b[38;5;241m.\u001b[39marguments\u001b[38;5;241m.\u001b[39mget(label_namer)\n\u001b[0;32m   1476\u001b[0m                   \u001b[38;5;129;01mor\u001b[39;00m bound\u001b[38;5;241m.\u001b[39mkwargs\u001b[38;5;241m.\u001b[39mget(label_namer))\n",
      "File \u001b[1;32m~\\AppData\\Local\\Programs\\Python\\Python39\\lib\\site-packages\\matplotlib\\axes\\_axes.py:2417\u001b[0m, in \u001b[0;36mAxes.bar\u001b[1;34m(self, x, height, width, bottom, align, **kwargs)\u001b[0m\n\u001b[0;32m   2414\u001b[0m     \u001b[38;5;28;01mif\u001b[39;00m yerr \u001b[38;5;129;01mis\u001b[39;00m \u001b[38;5;129;01mnot\u001b[39;00m \u001b[38;5;28;01mNone\u001b[39;00m:\n\u001b[0;32m   2415\u001b[0m         yerr \u001b[38;5;241m=\u001b[39m \u001b[38;5;28mself\u001b[39m\u001b[38;5;241m.\u001b[39m_convert_dx(yerr, y0, y, \u001b[38;5;28mself\u001b[39m\u001b[38;5;241m.\u001b[39mconvert_yunits)\n\u001b[1;32m-> 2417\u001b[0m x, height, width, y, linewidth, hatch \u001b[38;5;241m=\u001b[39m \u001b[43mnp\u001b[49m\u001b[38;5;241;43m.\u001b[39;49m\u001b[43mbroadcast_arrays\u001b[49m\u001b[43m(\u001b[49m\n\u001b[0;32m   2418\u001b[0m \u001b[43m    \u001b[49m\u001b[38;5;66;43;03m# Make args iterable too.\u001b[39;49;00m\n\u001b[0;32m   2419\u001b[0m \u001b[43m    \u001b[49m\u001b[43mnp\u001b[49m\u001b[38;5;241;43m.\u001b[39;49m\u001b[43matleast_1d\u001b[49m\u001b[43m(\u001b[49m\u001b[43mx\u001b[49m\u001b[43m)\u001b[49m\u001b[43m,\u001b[49m\u001b[43m \u001b[49m\u001b[43mheight\u001b[49m\u001b[43m,\u001b[49m\u001b[43m \u001b[49m\u001b[43mwidth\u001b[49m\u001b[43m,\u001b[49m\u001b[43m \u001b[49m\u001b[43my\u001b[49m\u001b[43m,\u001b[49m\u001b[43m \u001b[49m\u001b[43mlinewidth\u001b[49m\u001b[43m,\u001b[49m\u001b[43m \u001b[49m\u001b[43mhatch\u001b[49m\u001b[43m)\u001b[49m\n\u001b[0;32m   2421\u001b[0m \u001b[38;5;66;03m# Now that units have been converted, set the tick locations.\u001b[39;00m\n\u001b[0;32m   2422\u001b[0m \u001b[38;5;28;01mif\u001b[39;00m orientation \u001b[38;5;241m==\u001b[39m \u001b[38;5;124m'\u001b[39m\u001b[38;5;124mvertical\u001b[39m\u001b[38;5;124m'\u001b[39m:\n",
      "File \u001b[1;32m<__array_function__ internals>:180\u001b[0m, in \u001b[0;36mbroadcast_arrays\u001b[1;34m(*args, **kwargs)\u001b[0m\n",
      "File \u001b[1;32m~\\AppData\\Local\\Programs\\Python\\Python39\\lib\\site-packages\\numpy\\lib\\stride_tricks.py:540\u001b[0m, in \u001b[0;36mbroadcast_arrays\u001b[1;34m(subok, *args)\u001b[0m\n\u001b[0;32m    533\u001b[0m \u001b[38;5;66;03m# nditer is not used here to avoid the limit of 32 arrays.\u001b[39;00m\n\u001b[0;32m    534\u001b[0m \u001b[38;5;66;03m# Otherwise, something like the following one-liner would suffice:\u001b[39;00m\n\u001b[0;32m    535\u001b[0m \u001b[38;5;66;03m# return np.nditer(args, flags=['multi_index', 'zerosize_ok'],\u001b[39;00m\n\u001b[0;32m    536\u001b[0m \u001b[38;5;66;03m#                  order='C').itviews\u001b[39;00m\n\u001b[0;32m    538\u001b[0m args \u001b[38;5;241m=\u001b[39m [np\u001b[38;5;241m.\u001b[39marray(_m, copy\u001b[38;5;241m=\u001b[39m\u001b[38;5;28;01mFalse\u001b[39;00m, subok\u001b[38;5;241m=\u001b[39msubok) \u001b[38;5;28;01mfor\u001b[39;00m _m \u001b[38;5;129;01min\u001b[39;00m args]\n\u001b[1;32m--> 540\u001b[0m shape \u001b[38;5;241m=\u001b[39m \u001b[43m_broadcast_shape\u001b[49m\u001b[43m(\u001b[49m\u001b[38;5;241;43m*\u001b[39;49m\u001b[43margs\u001b[49m\u001b[43m)\u001b[49m\n\u001b[0;32m    542\u001b[0m \u001b[38;5;28;01mif\u001b[39;00m \u001b[38;5;28mall\u001b[39m(array\u001b[38;5;241m.\u001b[39mshape \u001b[38;5;241m==\u001b[39m shape \u001b[38;5;28;01mfor\u001b[39;00m array \u001b[38;5;129;01min\u001b[39;00m args):\n\u001b[0;32m    543\u001b[0m     \u001b[38;5;66;03m# Common case where nothing needs to be broadcasted.\u001b[39;00m\n\u001b[0;32m    544\u001b[0m     \u001b[38;5;28;01mreturn\u001b[39;00m args\n",
      "File \u001b[1;32m~\\AppData\\Local\\Programs\\Python\\Python39\\lib\\site-packages\\numpy\\lib\\stride_tricks.py:422\u001b[0m, in \u001b[0;36m_broadcast_shape\u001b[1;34m(*args)\u001b[0m\n\u001b[0;32m    417\u001b[0m \u001b[38;5;250m\u001b[39m\u001b[38;5;124;03m\"\"\"Returns the shape of the arrays that would result from broadcasting the\u001b[39;00m\n\u001b[0;32m    418\u001b[0m \u001b[38;5;124;03msupplied arrays against each other.\u001b[39;00m\n\u001b[0;32m    419\u001b[0m \u001b[38;5;124;03m\"\"\"\u001b[39;00m\n\u001b[0;32m    420\u001b[0m \u001b[38;5;66;03m# use the old-iterator because np.nditer does not handle size 0 arrays\u001b[39;00m\n\u001b[0;32m    421\u001b[0m \u001b[38;5;66;03m# consistently\u001b[39;00m\n\u001b[1;32m--> 422\u001b[0m b \u001b[38;5;241m=\u001b[39m \u001b[43mnp\u001b[49m\u001b[38;5;241;43m.\u001b[39;49m\u001b[43mbroadcast\u001b[49m\u001b[43m(\u001b[49m\u001b[38;5;241;43m*\u001b[39;49m\u001b[43margs\u001b[49m\u001b[43m[\u001b[49m\u001b[43m:\u001b[49m\u001b[38;5;241;43m32\u001b[39;49m\u001b[43m]\u001b[49m\u001b[43m)\u001b[49m\n\u001b[0;32m    423\u001b[0m \u001b[38;5;66;03m# unfortunately, it cannot handle 32 or more arguments directly\u001b[39;00m\n\u001b[0;32m    424\u001b[0m \u001b[38;5;28;01mfor\u001b[39;00m pos \u001b[38;5;129;01min\u001b[39;00m \u001b[38;5;28mrange\u001b[39m(\u001b[38;5;241m32\u001b[39m, \u001b[38;5;28mlen\u001b[39m(args), \u001b[38;5;241m31\u001b[39m):\n\u001b[0;32m    425\u001b[0m     \u001b[38;5;66;03m# ironically, np.broadcast does not properly handle np.broadcast\u001b[39;00m\n\u001b[0;32m    426\u001b[0m     \u001b[38;5;66;03m# objects (it treats them as scalars)\u001b[39;00m\n\u001b[0;32m    427\u001b[0m     \u001b[38;5;66;03m# use broadcasting to avoid allocating the full array\u001b[39;00m\n",
      "\u001b[1;31mValueError\u001b[0m: shape mismatch: objects cannot be broadcast to a single shape.  Mismatch is between arg 0 with shape (9,) and arg 1 with shape (12,)."
     ]
    },
    {
     "data": {
      "image/png": "[encoded data removed]",
      "text/plain": [
       "<Figure size 640x480 with 1 Axes>"
      ]
     },
     "metadata": {},
     "output_type": "display_data"
    }
   ],
   "source": [
    "# create plot\n",
    "fig, ax = plt.subplots()\n",
    "bar_width = 0.2\n",
    "opacity = 0.8\n",
    "x=np.array([1,2,3,4,5,6,7,8,9])\n",
    "rects1 = plt.bar(x,np.asarray(a[\"T Caract\"]), bar_width,\n",
    "alpha=opacity,\n",
    "color='b',\n",
    "label='Frank')\n",
    "\n",
    "rects2 = plt.bar(x+bar_width,np.asarray(b[\"T Caract\"]), bar_width,\n",
    "alpha=opacity,\n",
    "color='g',\n",
    "label='Guido')\n",
    "\n",
    "plt.show()"
   ]
  },
  {
   "cell_type": "code",
   "execution_count": null,
   "id": "abandoned-timing",
   "metadata": {
    "tags": []
   },
   "outputs": [],
   "source": [
    "np.asarray(a[\"T Caract\"])"
   ]
  },
  {
   "cell_type": "code",
   "execution_count": null,
   "id": "superior-knife",
   "metadata": {
    "tags": []
   },
   "outputs": [],
   "source": [
    "np.asarray(b[\"T Caract\"]).T"
   ]
  },
  {
   "cell_type": "code",
   "execution_count": 52,
   "id": "animated-bernard",
   "metadata": {
    "tags": []
   },
   "outputs": [
    {
     "data": {
      "image/png": "[encoded data removed]",
      "text/plain": [
       "<Figure size 640x480 with 1 Axes>"
      ]
     },
     "metadata": {},
     "output_type": "display_data"
    }
   ],
   "source": [
    "import numpy as np\n",
    "import matplotlib.pyplot as plt\n",
    "\n",
    "tipo = ('FFT em Precisão Dupla','FFT em Precisão Simples')\n",
    "\n",
    "dict_class = {\n",
    "    '40-memw-160-O2': (2276.6666666666665,697.6666666666666),\n",
    "    '40-memw-160-Os': (2346.6666666666665,712.0),\n",
    "    #'40-no-240-O2': (2239.0,680.0),\n",
    "    #'40-no-240-Os': (2260.0,710.0),\n",
    "    '80-no-240-O2': (1950.0,460.0),\n",
    "    '80-no-240-Os': (1980.0,490.0)}\n",
    "\n",
    "x = np.arange(len(tipo))  # the label locations\n",
    "width = 0.14  # the width of the bars\n",
    "multiplier = 0\n",
    "\n",
    "major_ticks = np.arange(0, 2501, 500)\n",
    "minor_ticks = np.arange(0, 2501, 100)\n",
    "\n",
    "fig,ax = plt.subplots(layout='constrained')\n",
    "\n",
    "for classe,tempo in dict_class.items():\n",
    "    offset = width * multiplier\n",
    "    rects = ax.bar(x + offset, tempo, width, label=classe)\n",
    "    ax.bar_label(rects, padding=2, fmt='%.0f')\n",
    "    multiplier += 1\n",
    "\n",
    "ax.set_ylabel('Média de tempo (ms)')\n",
    "ax.set_title('Tempo de execução da extração de características')\n",
    "ax.set_xticks(x + width*1.5, tipo)\n",
    "ax.legend(loc='upper right', title='Ensaios')\n",
    "ax.set_axisbelow(True)\n",
    "ax.set_yticks(major_ticks)\n",
    "ax.set_yticks(minor_ticks, minor=True)\n",
    "ax.grid(which='minor',alpha=0.2,axis='y')\n",
    "ax.grid(which='major',alpha=0.5,axis='y')\n",
    "#plt.savefig(\"../Imagens autorais PD/TempoFFTV2--fix.png\", dpi=300)"
   ]
  },
  {
   "cell_type": "code",
   "execution_count": 29,
   "id": "conceptual-analysis",
   "metadata": {
    "tags": []
   },
   "outputs": [],
   "source": [
    "import pandas as pd\n",
    "dados = pd.read_excel(\"../dados.xls\",sheet_name=\"NovosTempos\")\n",
    "a= dados.drop([\"Medidas\", \"T Total\", \"T Caract\", \"FFT Prec\"],axis=\"columns\")\n",
    "a = a.groupby(['Clock SPI RAM', \"Workaround cache\", \"CPU F\", \"Compile Opt\",\"BLKS\"]).mean().reset_index()\n",
    "\n",
    "class_lst = []\n",
    "float_lst = []\n",
    "double_lst = []\n",
    "\n",
    "_dict = {4:{}, 12:{}, 33:{}}\n",
    "for i, row in a.iterrows():\n",
    "    _class = str(row[\"Clock SPI RAM\"])+'-'+str(row[\"Workaround cache\"])+'-'+str(row[\"CPU F\"])+'-'+str(row[\"Compile Opt\"])\n",
    "    if _class in ['40-memw-160-O2', '40-memw-160-Os','80-no-240-O2','80-no-240-Os']:\n",
    "        if (row[\"BLKS\"] != 11):\n",
    "            _dict[row[\"BLKS\"]][_class] = row[\"T NN\"]"
   ]
  },
  {
   "cell_type": "code",
   "execution_count": null,
   "id": "631ad0b9-db34-4be9-b2da-dd82df2cab0f",
   "metadata": {
    "tags": []
   },
   "outputs": [],
   "source": []
  },
  {
   "cell_type": "code",
   "execution_count": 31,
   "id": "cloudy-singles",
   "metadata": {
    "tags": []
   },
   "outputs": [],
   "source": [
    "_dict_plot = {}\n",
    "for key in _dict[4].keys():\n",
    "    _dict_plot[key] = (_dict[4][key], _dict[12][key], _dict[33][key])"
   ]
  },
  {
   "cell_type": "code",
   "execution_count": 32,
   "id": "prerequisite-adventure",
   "metadata": {
    "tags": []
   },
   "outputs": [
    {
     "data": {
      "text/plain": [
       "{'40-memw-160-O2': (9180.0, 7860.0, 7488.5),\n",
       " '40-memw-160-Os': (14125.0, 12915.0, 12515.0),\n",
       " '80-no-240-O2': (6200.0, 5135.0, 4755.0),\n",
       " '80-no-240-Os': (10070.0, 8990.0, 8660.0)}"
      ]
     },
     "execution_count": 32,
     "metadata": {},
     "output_type": "execute_result"
    }
   ],
   "source": [
    "_dict_plot"
   ]
  },
  {
   "cell_type": "code",
   "execution_count": 33,
   "id": "engaging-collar",
   "metadata": {
    "tags": []
   },
   "outputs": [
    {
     "name": "stdout",
     "output_type": "stream",
     "text": [
      "40-memw-160-O2 (9180.0, 7860.0, 7488.5)\n",
      "40-memw-160-Os (14125.0, 12915.0, 12515.0)\n",
      "80-no-240-O2 (6200.0, 5135.0, 4755.0)\n",
      "80-no-240-Os (10070.0, 8990.0, 8660.0)\n"
     ]
    },
    {
     "data": {
      "image/png": "[encoded data removed]",
      "text/plain": [
       "<Figure size 640x480 with 1 Axes>"
      ]
     },
     "metadata": {},
     "output_type": "display_data"
    }
   ],
   "source": [
    "import numpy as np\n",
    "import matplotlib.pyplot as plt\n",
    "\n",
    "tipo = (4,12,33)\n",
    "\n",
    "dict_class = {\n",
    "    '40-memw-160-O2': (2276.6666666666665,697.6666666666666),\n",
    "    '40-memw-160-Os': (2346.6666666666665,712.0),\n",
    "    '40-no-240-O2': (2239.0,680.0),\n",
    "    '40-no-240-Os': (2260.0,710.0),\n",
    "    '80-no-240-O2': (1950.0,460.0),\n",
    "    '80-no-240-Os': (1980.0,490.0)}\n",
    "\n",
    "dict_class = _dict_plot\n",
    "\n",
    "x = np.arange(len(tipo))  # the label locations\n",
    "width = 0.14  # the width of the bars\n",
    "multiplier = 0\n",
    "\n",
    "major_ticks = np.arange(0, 15001, 5000)\n",
    "minor_ticks = np.arange(0, 15001, 1000)\n",
    "\n",
    "fig,ax = plt.subplots(layout='constrained')\n",
    "\n",
    "for classe,tempo in dict_class.items():\n",
    "    print(classe, tempo)\n",
    "    #offset = width * multiplier\n",
    "    offset = 0\n",
    "    rects = ax.plot(x + offset, tempo, width, label=classe)\n",
    "    #ax.label(rects, padding=2, fmt='%.0f')\n",
    "    multiplier += 1\n",
    "\n",
    "#plt.plot(tipo,dict_class[list(dict_class.keys())[0]])\n",
    "#plt.plot(tipo,dict_class[list(dict_class.keys())[1]])\n",
    "#plt.plot(tipo,dict_class[list(dict_class.keys())[2]])\n",
    "#plt.plot(tipo,dict_class[list(dict_class.keys())[3]])\n",
    "\n",
    "ax.set_ylabel('Média de tempo (ms)')\n",
    "ax.set_title('Precisão FFT')\n",
    "ax.set_xticks(x + width*2.5, tipo)\n",
    "#ax.set_xticks(x, tipo)\n",
    "\n",
    "ax.legend(loc='upper right', title='Classes')\n",
    "ax.set_axisbelow(True)\n",
    "ax.set_yticks(major_ticks)\n",
    "ax.set_yticks(minor_ticks, minor=True)\n",
    "ax.grid(which='minor',alpha=0.2,axis='y')\n",
    "ax.grid(which='major',alpha=0.5,axis='y')"
   ]
  },
  {
   "cell_type": "code",
   "execution_count": 49,
   "id": "4d17debd-13c2-4fe5-97d2-bf2a87618bba",
   "metadata": {
    "tags": []
   },
   "outputs": [],
   "source": [
    "YYY_labels = np.asarray(list(_dict_plot.keys()))\n",
    "YYY = np.asarray(list(_dict_plot.values()))\n",
    "dic_regress = {}\n",
    "from scipy.stats import linregress\n",
    "XXX = 132/np.array((4,12,33))\n",
    "\n",
    "for i in range(0,4):\n",
    "    a = XXX\n",
    "    b = YYY[i,:]\n",
    "    l = linregress(a, b)\n",
    "    dic_regress[YYY_labels[i]] = l"
   ]
  },
  {
   "cell_type": "code",
   "execution_count": null,
   "id": "3fbb1e13-c71e-4d5b-b2fe-cc920f8c6a45",
   "metadata": {},
   "outputs": [],
   "source": []
  },
  {
   "cell_type": "code",
   "execution_count": 51,
   "id": "responsible-david",
   "metadata": {
    "tags": []
   },
   "outputs": [
    {
     "data": {
      "image/png": "[encoded data removed]",
      "text/plain": [
       "<Figure size 640x480 with 1 Axes>"
      ]
     },
     "metadata": {},
     "output_type": "display_data"
    }
   ],
   "source": [
    "tipo = (132/4,132/12,132/33)\n",
    "dict_class = _dict_plot\n",
    "\n",
    "fig,ax = plt.subplots()\n",
    "ax.plot(tipo,dict_class[list(dict_class.keys())[0]], '-o', label=list(dict_class.keys())[0])\n",
    "ax.plot(tipo,dict_class[list(dict_class.keys())[1]], '-o', label=list(dict_class.keys())[1])\n",
    "ax.plot(tipo,dict_class[list(dict_class.keys())[2]], '--o', label=list(dict_class.keys())[2])\n",
    "ax.plot(tipo,dict_class[list(dict_class.keys())[3]], '-o', label=list(dict_class.keys())[3])\n",
    "ax.legend(loc='upper right', title='Ensaio')\n",
    "ax.set_ylabel('Média de tempo (ms)')\n",
    "ax.set_xlabel('Número de mapeamentos via API himem')\n",
    "ax.set_title('Tempo por número de mapeamentos')\n",
    "major_ticks = np.arange(0, 15001, 5000)\n",
    "minor_ticks = np.arange(0, 15001, 1000)\n",
    "ax.set_xticks(np.concatenate((np.array([0]),np.array(tipo))))\n",
    "ax.set_yticks(major_ticks)\n",
    "ax.set_yticks(minor_ticks, minor=True)\n",
    "ax.grid(which='minor',alpha=0.2,axis='y')\n",
    "ax.grid(which='major',alpha=0.5,axis='y')\n",
    "\n",
    "ax.text(15,7000,\n",
    "        'α={:.2g}; r²={:.2g}'.format(float(dic_regress[\"40-memw-160-O2\"].slope),float(dic_regress[\"40-memw-160-O2\"].rvalue)),\n",
    "        fontsize=12,ha='center')\n",
    "\n",
    "ax.text(8,13250,\n",
    "        'α={:.2g}; r²={:.2g}'.format(float(dic_regress[\"40-memw-160-Os\"].slope),float(dic_regress[\"40-memw-160-Os\"].rvalue)),\n",
    "        fontsize=12,ha='center')\n",
    "\n",
    "ax.text(20,4500,\n",
    "        'α={:.2g}; r²={:.2g}'.format(float(dic_regress[\"80-no-240-O2\"].slope),float(dic_regress[\"80-no-240-O2\"].rvalue)),\n",
    "        fontsize=12,ha='center')\n",
    "\n",
    "ax.text(10,9500,\n",
    "        'α={:.2g}; r²={:.2g}'.format(float(dic_regress[\"80-no-240-Os\"].slope),float(dic_regress[\"80-no-240-Os\"].rvalue)),\n",
    "        fontsize=12,ha='center')\n",
    "\n",
    "#plt.savefig(\"../Imagens autorais PD/HIMEMTempoPorNumeroDeMapeamentosV3--fix.png\", dpi=300)"
   ]
  },
  {
   "cell_type": "code",
   "execution_count": 40,
   "id": "dedicated-occurrence",
   "metadata": {
    "tags": []
   },
   "outputs": [
    {
     "data": {
      "text/plain": [
       "dict_keys(['40-memw-160-O2', '40-memw-160-Os', '80-no-240-O2', '80-no-240-Os'])"
      ]
     },
     "execution_count": 40,
     "metadata": {},
     "output_type": "execute_result"
    }
   ],
   "source": [
    "dict_class.keys()"
   ]
  },
  {
   "cell_type": "code",
   "execution_count": 41,
   "id": "severe-alberta",
   "metadata": {
    "tags": []
   },
   "outputs": [
    {
     "ename": "NameError",
     "evalue": "name 'dic_regress' is not defined",
     "output_type": "error",
     "traceback": [
      "\u001b[1;31m---------------------------------------------------------------------------\u001b[0m",
      "\u001b[1;31mNameError\u001b[0m                                 Traceback (most recent call last)",
      "Cell \u001b[1;32mIn[41], line 1\u001b[0m\n\u001b[1;32m----> 1\u001b[0m \u001b[43mdic_regress\u001b[49m\n",
      "\u001b[1;31mNameError\u001b[0m: name 'dic_regress' is not defined"
     ]
    }
   ],
   "source": [
    "dic_regress"
   ]
  },
  {
   "cell_type": "code",
   "execution_count": 42,
   "id": "blond-madonna",
   "metadata": {
    "tags": []
   },
   "outputs": [
    {
     "data": {
      "text/plain": [
       "(array([0]), array([33., 11.,  4.]))"
      ]
     },
     "execution_count": 42,
     "metadata": {},
     "output_type": "execute_result"
    }
   ],
   "source": [
    "(np.array([0]),np.array(tipo))"
   ]
  },
  {
   "cell_type": "code",
   "execution_count": 47,
   "id": "similar-denver",
   "metadata": {
    "tags": []
   },
   "outputs": [
    {
     "data": {
      "image/png": "[encoded data removed]",
      "text/plain": [
       "<Figure size 640x480 with 1 Axes>"
      ]
     },
     "metadata": {},
     "output_type": "display_data"
    }
   ],
   "source": [
    "tipo = (4,12,33)\n",
    "dict_class = _dict_plot\n",
    "\n",
    "fig,ax = plt.subplots()\n",
    "ax.plot(tipo,dict_class[list(dict_class.keys())[0]], '-o', label=list(dict_class.keys())[0])\n",
    "ax.plot(tipo,dict_class[list(dict_class.keys())[1]], '-o', label=list(dict_class.keys())[1])\n",
    "ax.plot(tipo,dict_class[list(dict_class.keys())[2]], '-o', label=list(dict_class.keys())[2])\n",
    "ax.plot(tipo,dict_class[list(dict_class.keys())[3]], '-o', label=list(dict_class.keys())[3])\n",
    "ax.legend(loc='upper right', title='Ensaio')\n",
    "ax.set_ylabel('Média de tempo (ms)')\n",
    "ax.set_xlabel('Número de blocos reservados mapeados')\n",
    "ax.set_title('Tempo por número de blocos mapeados')\n",
    "major_ticks = np.arange(0, 15001, 5000)\n",
    "minor_ticks = np.arange(0, 15001, 1000)\n",
    "ax.set_xticks(tipo)\n",
    "ax.set_yticks(major_ticks)\n",
    "ax.set_yticks(minor_ticks, minor=True)\n",
    "ax.grid(which='minor',alpha=0.2,axis='y')\n",
    "ax.grid(which='major',alpha=0.5,axis='y')\n",
    "#plt.savefig(\"../Imagens autorais PD/HIMEMTempoPorBlocosMapeados--FIX.png\", dpi=300)"
   ]
  },
  {
   "cell_type": "code",
   "execution_count": 44,
   "id": "arctic-study",
   "metadata": {
    "tags": []
   },
   "outputs": [
    {
     "data": {
      "text/plain": [
       "{'40-memw-160-O2': (9180.0, 7860.0, 7488.5),\n",
       " '40-memw-160-Os': (14125.0, 12915.0, 12515.0),\n",
       " '80-no-240-O2': (6200.0, 5135.0, 4755.0),\n",
       " '80-no-240-Os': (10070.0, 8990.0, 8660.0)}"
      ]
     },
     "execution_count": 44,
     "metadata": {},
     "output_type": "execute_result"
    }
   ],
   "source": [
    "\n",
    "\n",
    "_dict_plot"
   ]
  },
  {
   "cell_type": "code",
   "execution_count": 45,
   "id": "common-entity",
   "metadata": {
    "tags": []
   },
   "outputs": [],
   "source": []
  },
  {
   "cell_type": "code",
   "execution_count": null,
   "id": "stainless-algorithm",
   "metadata": {
    "tags": []
   },
   "outputs": [],
   "source": [
    "YYY"
   ]
  },
  {
   "cell_type": "code",
   "execution_count": null,
   "id": "dying-justice",
   "metadata": {},
   "outputs": [],
   "source": []
  },
  {
   "cell_type": "code",
   "execution_count": null,
   "id": "computational-combine",
   "metadata": {
    "tags": []
   },
   "outputs": [],
   "source": [
    "XXX"
   ]
  },
  {
   "cell_type": "code",
   "execution_count": null,
   "id": "solved-leadership",
   "metadata": {},
   "outputs": [],
   "source": []
  },
  {
   "cell_type": "code",
   "execution_count": 48,
   "id": "willing-interpretation",
   "metadata": {
    "tags": []
   },
   "outputs": [],
   "source": []
  },
  {
   "cell_type": "code",
   "execution_count": null,
   "id": "caroline-attempt",
   "metadata": {
    "tags": []
   },
   "outputs": [],
   "source": [
    "dic_regress[\"40-memw-160-O2\"]"
   ]
  },
  {
   "cell_type": "code",
   "execution_count": null,
   "id": "spread-integral",
   "metadata": {},
   "outputs": [],
   "source": []
  },
  {
   "cell_type": "code",
   "execution_count": null,
   "id": "occupational-estimate",
   "metadata": {},
   "outputs": [],
   "source": []
  },
  {
   "cell_type": "code",
   "execution_count": null,
   "id": "clinical-suicide",
   "metadata": {},
   "outputs": [],
   "source": []
  },
  {
   "cell_type": "code",
   "execution_count": null,
   "id": "geographic-argentina",
   "metadata": {},
   "outputs": [],
   "source": []
  }
 ],
 "metadata": {
  "kernelspec": {
   "display_name": "Python 3 (ipykernel)",
   "language": "python",
   "name": "python3"
  },
  "language_info": {
   "codemirror_mode": {
    "name": "ipython",
    "version": 3
   },
   "file_extension": ".py",
   "mimetype": "text/x-python",
   "name": "python",
   "nbconvert_exporter": "python",
   "pygments_lexer": "ipython3",
   "version": "3.9.1"
  }
 },
 "nbformat": 4,
 "nbformat_minor": 5
}
